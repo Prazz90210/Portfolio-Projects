{
  "cells": [
    {
      "cell_type": "markdown",
      "source": [
        "**Demonstrates a practical application of time series forecasting techniques, including statistical models and machine learning approaches including Generative AI for time series (TimeGPT). The chat function and prototype model further illustrate how these forecasts can be used for real-world decision-making.**\n",
        "\n",
        "In this project we demonstrate a comprehensive approach to time series forecasting for natural gas prices using time Series Forecasting Models like\n",
        "\n",
        "**ARIMA:** Autoregressive Integrated Moving Average model.  <br>\n",
        "**SARIMA:** Seasonal ARIMA model, accounting for seasonality.  <br>\n",
        "**Exponential Smoothing:** A statistical method for forecasting time series data.  <br>\n",
        "**TimeGPT:** A language model-based forecasting approach from Nixtla.  <br>\n",
        "\n",
        "We evaluate the performance of each model using metrics like Mean Absolute Error (MAE) and Root Mean Squared Error (RMSE).Identify the best-performing model based on these metrics.\n",
        "\n",
        "We attempt to improve TimeGPT's performance by fine-tuning it with the Mean Absolute Error loss function.\n",
        "\n",
        "Combining Forecasts and Visualization:\n",
        "\n",
        "We combine the historical data with forecasts from all models.\n",
        "Visualizes the historical data and forecasts on a single plot for comparison.\n",
        "Chat Function:\n",
        "\n",
        "We create a chat function to provide price estimates for specific dates based on the historical data and forecasts.\n",
        "\n",
        "We defines a prototype model to simulate a natural gas storage scenario.\n",
        "Calculates potential profit or loss based on injection and withdrawal dates, prices, and other factors."
      ],
      "metadata": {
        "id": "iR_1dSoLil_e"
      }
    },
    {
      "cell_type": "markdown",
      "source": [
        "##Imports and Setup:"
      ],
      "metadata": {
        "id": "ZfjRIKtWh99y"
      }
    },
    {
      "cell_type": "markdown",
      "source": [],
      "metadata": {
        "id": "qbMcMrkoikiF"
      }
    },
    {
      "cell_type": "markdown",
      "source": [],
      "metadata": {
        "id": "yVlvPWO-iX5N"
      }
    },
    {
      "cell_type": "code",
      "source": [
        "%pip install nixtla>=0.5.1"
      ],
      "metadata": {
        "id": "D9QcQgbi1jE7"
      },
      "execution_count": 295,
      "outputs": []
    },
    {
      "cell_type": "code",
      "execution_count": 296,
      "metadata": {
        "id": "km3K5neyMReB"
      },
      "outputs": [],
      "source": [
        "import pandas as pd\n",
        "import numpy as np\n",
        "import matplotlib.pyplot as plt\n",
        "import seaborn as sns\n",
        "from sklearn.linear_model import LinearRegression"
      ]
    },
    {
      "cell_type": "code",
      "source": [
        "from google.colab import userdata\n",
        "timegpt_api_key = userdata.get('TIMEGPT_API_KEY')"
      ],
      "metadata": {
        "id": "PiRHvDkO19Nr"
      },
      "execution_count": 297,
      "outputs": []
    },
    {
      "cell_type": "code",
      "source": [
        "\n",
        "from nixtla import NixtlaClient\n",
        "import os"
      ],
      "metadata": {
        "id": "CGrZz__o5FIZ"
      },
      "execution_count": 298,
      "outputs": []
    },
    {
      "cell_type": "code",
      "source": [
        "# Setup NixtlaClient\n",
        "nixtla_client = NixtlaClient(api_key=timegpt_api_key)"
      ],
      "metadata": {
        "id": "NJdHmIMH5Omz"
      },
      "execution_count": 299,
      "outputs": []
    },
    {
      "cell_type": "markdown",
      "source": [
        "## Loading and Plotting Historical Data:"
      ],
      "metadata": {
        "id": "UV15U_oCiKAc"
      }
    },
    {
      "cell_type": "code",
      "execution_count": 300,
      "metadata": {
        "colab": {
          "base_uri": "https://localhost:8080/",
          "height": 1000
        },
        "id": "fiqgPzobM77J",
        "outputId": "851a7de8-3893-4ff0-d5fa-c89736716161"
      },
      "outputs": [
        {
          "output_type": "execute_result",
          "data": {
            "text/plain": [
              "       Dates  Prices\n",
              "0   10/31/20   10.10\n",
              "1   11/30/20   10.30\n",
              "2   12/31/20   11.00\n",
              "3    1/31/21   10.90\n",
              "4    2/28/21   10.90\n",
              "5    3/31/21   10.90\n",
              "6    4/30/21   10.40\n",
              "7    5/31/21    9.84\n",
              "8    6/30/21   10.00\n",
              "9    7/31/21   10.10\n",
              "10   8/31/21   10.30\n",
              "11   9/30/21   10.20\n",
              "12  10/31/21   10.10\n",
              "13  11/30/21   11.20\n",
              "14  12/31/21   11.40\n",
              "15   1/31/22   11.50\n",
              "16   2/28/22   11.80\n",
              "17   3/31/22   11.50\n",
              "18   4/30/22   10.70\n",
              "19   5/31/22   10.70\n",
              "20   6/30/22   10.40\n",
              "21   7/31/22   10.50\n",
              "22   8/31/22   10.40\n",
              "23   9/30/22   10.80\n",
              "24  10/31/22   11.00\n",
              "25  11/30/22   11.60\n",
              "26  12/31/22   11.60\n",
              "27   1/31/23   12.10\n",
              "28   2/28/23   11.70\n",
              "29   3/31/23   12.00\n",
              "30   4/30/23   11.50\n",
              "31   5/31/23   11.20\n",
              "32   6/30/23   10.90\n",
              "33   7/31/23   11.40\n",
              "34   8/31/23   11.10\n",
              "35   9/30/23   11.50\n",
              "36  10/31/23   11.80\n",
              "37  11/30/23   12.20\n",
              "38  12/31/23   12.80\n",
              "39   1/31/24   12.60\n",
              "40   2/29/24   12.40\n",
              "41   3/31/24   12.70\n",
              "42   4/30/24   12.10\n",
              "43   5/31/24   11.40\n",
              "44   6/30/24   11.50\n",
              "45   7/31/24   11.60\n",
              "46   8/31/24   11.50\n",
              "47   9/30/24   11.80"
            ],
            "text/html": [
              "\n",
              "  <div id=\"df-abf1e773-d761-4134-96ea-ce9840b99012\" class=\"colab-df-container\">\n",
              "    <div>\n",
              "<style scoped>\n",
              "    .dataframe tbody tr th:only-of-type {\n",
              "        vertical-align: middle;\n",
              "    }\n",
              "\n",
              "    .dataframe tbody tr th {\n",
              "        vertical-align: top;\n",
              "    }\n",
              "\n",
              "    .dataframe thead th {\n",
              "        text-align: right;\n",
              "    }\n",
              "</style>\n",
              "<table border=\"1\" class=\"dataframe\">\n",
              "  <thead>\n",
              "    <tr style=\"text-align: right;\">\n",
              "      <th></th>\n",
              "      <th>Dates</th>\n",
              "      <th>Prices</th>\n",
              "    </tr>\n",
              "  </thead>\n",
              "  <tbody>\n",
              "    <tr>\n",
              "      <th>0</th>\n",
              "      <td>10/31/20</td>\n",
              "      <td>10.10</td>\n",
              "    </tr>\n",
              "    <tr>\n",
              "      <th>1</th>\n",
              "      <td>11/30/20</td>\n",
              "      <td>10.30</td>\n",
              "    </tr>\n",
              "    <tr>\n",
              "      <th>2</th>\n",
              "      <td>12/31/20</td>\n",
              "      <td>11.00</td>\n",
              "    </tr>\n",
              "    <tr>\n",
              "      <th>3</th>\n",
              "      <td>1/31/21</td>\n",
              "      <td>10.90</td>\n",
              "    </tr>\n",
              "    <tr>\n",
              "      <th>4</th>\n",
              "      <td>2/28/21</td>\n",
              "      <td>10.90</td>\n",
              "    </tr>\n",
              "    <tr>\n",
              "      <th>5</th>\n",
              "      <td>3/31/21</td>\n",
              "      <td>10.90</td>\n",
              "    </tr>\n",
              "    <tr>\n",
              "      <th>6</th>\n",
              "      <td>4/30/21</td>\n",
              "      <td>10.40</td>\n",
              "    </tr>\n",
              "    <tr>\n",
              "      <th>7</th>\n",
              "      <td>5/31/21</td>\n",
              "      <td>9.84</td>\n",
              "    </tr>\n",
              "    <tr>\n",
              "      <th>8</th>\n",
              "      <td>6/30/21</td>\n",
              "      <td>10.00</td>\n",
              "    </tr>\n",
              "    <tr>\n",
              "      <th>9</th>\n",
              "      <td>7/31/21</td>\n",
              "      <td>10.10</td>\n",
              "    </tr>\n",
              "    <tr>\n",
              "      <th>10</th>\n",
              "      <td>8/31/21</td>\n",
              "      <td>10.30</td>\n",
              "    </tr>\n",
              "    <tr>\n",
              "      <th>11</th>\n",
              "      <td>9/30/21</td>\n",
              "      <td>10.20</td>\n",
              "    </tr>\n",
              "    <tr>\n",
              "      <th>12</th>\n",
              "      <td>10/31/21</td>\n",
              "      <td>10.10</td>\n",
              "    </tr>\n",
              "    <tr>\n",
              "      <th>13</th>\n",
              "      <td>11/30/21</td>\n",
              "      <td>11.20</td>\n",
              "    </tr>\n",
              "    <tr>\n",
              "      <th>14</th>\n",
              "      <td>12/31/21</td>\n",
              "      <td>11.40</td>\n",
              "    </tr>\n",
              "    <tr>\n",
              "      <th>15</th>\n",
              "      <td>1/31/22</td>\n",
              "      <td>11.50</td>\n",
              "    </tr>\n",
              "    <tr>\n",
              "      <th>16</th>\n",
              "      <td>2/28/22</td>\n",
              "      <td>11.80</td>\n",
              "    </tr>\n",
              "    <tr>\n",
              "      <th>17</th>\n",
              "      <td>3/31/22</td>\n",
              "      <td>11.50</td>\n",
              "    </tr>\n",
              "    <tr>\n",
              "      <th>18</th>\n",
              "      <td>4/30/22</td>\n",
              "      <td>10.70</td>\n",
              "    </tr>\n",
              "    <tr>\n",
              "      <th>19</th>\n",
              "      <td>5/31/22</td>\n",
              "      <td>10.70</td>\n",
              "    </tr>\n",
              "    <tr>\n",
              "      <th>20</th>\n",
              "      <td>6/30/22</td>\n",
              "      <td>10.40</td>\n",
              "    </tr>\n",
              "    <tr>\n",
              "      <th>21</th>\n",
              "      <td>7/31/22</td>\n",
              "      <td>10.50</td>\n",
              "    </tr>\n",
              "    <tr>\n",
              "      <th>22</th>\n",
              "      <td>8/31/22</td>\n",
              "      <td>10.40</td>\n",
              "    </tr>\n",
              "    <tr>\n",
              "      <th>23</th>\n",
              "      <td>9/30/22</td>\n",
              "      <td>10.80</td>\n",
              "    </tr>\n",
              "    <tr>\n",
              "      <th>24</th>\n",
              "      <td>10/31/22</td>\n",
              "      <td>11.00</td>\n",
              "    </tr>\n",
              "    <tr>\n",
              "      <th>25</th>\n",
              "      <td>11/30/22</td>\n",
              "      <td>11.60</td>\n",
              "    </tr>\n",
              "    <tr>\n",
              "      <th>26</th>\n",
              "      <td>12/31/22</td>\n",
              "      <td>11.60</td>\n",
              "    </tr>\n",
              "    <tr>\n",
              "      <th>27</th>\n",
              "      <td>1/31/23</td>\n",
              "      <td>12.10</td>\n",
              "    </tr>\n",
              "    <tr>\n",
              "      <th>28</th>\n",
              "      <td>2/28/23</td>\n",
              "      <td>11.70</td>\n",
              "    </tr>\n",
              "    <tr>\n",
              "      <th>29</th>\n",
              "      <td>3/31/23</td>\n",
              "      <td>12.00</td>\n",
              "    </tr>\n",
              "    <tr>\n",
              "      <th>30</th>\n",
              "      <td>4/30/23</td>\n",
              "      <td>11.50</td>\n",
              "    </tr>\n",
              "    <tr>\n",
              "      <th>31</th>\n",
              "      <td>5/31/23</td>\n",
              "      <td>11.20</td>\n",
              "    </tr>\n",
              "    <tr>\n",
              "      <th>32</th>\n",
              "      <td>6/30/23</td>\n",
              "      <td>10.90</td>\n",
              "    </tr>\n",
              "    <tr>\n",
              "      <th>33</th>\n",
              "      <td>7/31/23</td>\n",
              "      <td>11.40</td>\n",
              "    </tr>\n",
              "    <tr>\n",
              "      <th>34</th>\n",
              "      <td>8/31/23</td>\n",
              "      <td>11.10</td>\n",
              "    </tr>\n",
              "    <tr>\n",
              "      <th>35</th>\n",
              "      <td>9/30/23</td>\n",
              "      <td>11.50</td>\n",
              "    </tr>\n",
              "    <tr>\n",
              "      <th>36</th>\n",
              "      <td>10/31/23</td>\n",
              "      <td>11.80</td>\n",
              "    </tr>\n",
              "    <tr>\n",
              "      <th>37</th>\n",
              "      <td>11/30/23</td>\n",
              "      <td>12.20</td>\n",
              "    </tr>\n",
              "    <tr>\n",
              "      <th>38</th>\n",
              "      <td>12/31/23</td>\n",
              "      <td>12.80</td>\n",
              "    </tr>\n",
              "    <tr>\n",
              "      <th>39</th>\n",
              "      <td>1/31/24</td>\n",
              "      <td>12.60</td>\n",
              "    </tr>\n",
              "    <tr>\n",
              "      <th>40</th>\n",
              "      <td>2/29/24</td>\n",
              "      <td>12.40</td>\n",
              "    </tr>\n",
              "    <tr>\n",
              "      <th>41</th>\n",
              "      <td>3/31/24</td>\n",
              "      <td>12.70</td>\n",
              "    </tr>\n",
              "    <tr>\n",
              "      <th>42</th>\n",
              "      <td>4/30/24</td>\n",
              "      <td>12.10</td>\n",
              "    </tr>\n",
              "    <tr>\n",
              "      <th>43</th>\n",
              "      <td>5/31/24</td>\n",
              "      <td>11.40</td>\n",
              "    </tr>\n",
              "    <tr>\n",
              "      <th>44</th>\n",
              "      <td>6/30/24</td>\n",
              "      <td>11.50</td>\n",
              "    </tr>\n",
              "    <tr>\n",
              "      <th>45</th>\n",
              "      <td>7/31/24</td>\n",
              "      <td>11.60</td>\n",
              "    </tr>\n",
              "    <tr>\n",
              "      <th>46</th>\n",
              "      <td>8/31/24</td>\n",
              "      <td>11.50</td>\n",
              "    </tr>\n",
              "    <tr>\n",
              "      <th>47</th>\n",
              "      <td>9/30/24</td>\n",
              "      <td>11.80</td>\n",
              "    </tr>\n",
              "  </tbody>\n",
              "</table>\n",
              "</div>\n",
              "    <div class=\"colab-df-buttons\">\n",
              "\n",
              "  <div class=\"colab-df-container\">\n",
              "    <button class=\"colab-df-convert\" onclick=\"convertToInteractive('df-abf1e773-d761-4134-96ea-ce9840b99012')\"\n",
              "            title=\"Convert this dataframe to an interactive table.\"\n",
              "            style=\"display:none;\">\n",
              "\n",
              "  <svg xmlns=\"http://www.w3.org/2000/svg\" height=\"24px\" viewBox=\"0 -960 960 960\">\n",
              "    <path d=\"M120-120v-720h720v720H120Zm60-500h600v-160H180v160Zm220 220h160v-160H400v160Zm0 220h160v-160H400v160ZM180-400h160v-160H180v160Zm440 0h160v-160H620v160ZM180-180h160v-160H180v160Zm440 0h160v-160H620v160Z\"/>\n",
              "  </svg>\n",
              "    </button>\n",
              "\n",
              "  <style>\n",
              "    .colab-df-container {\n",
              "      display:flex;\n",
              "      gap: 12px;\n",
              "    }\n",
              "\n",
              "    .colab-df-convert {\n",
              "      background-color: #E8F0FE;\n",
              "      border: none;\n",
              "      border-radius: 50%;\n",
              "      cursor: pointer;\n",
              "      display: none;\n",
              "      fill: #1967D2;\n",
              "      height: 32px;\n",
              "      padding: 0 0 0 0;\n",
              "      width: 32px;\n",
              "    }\n",
              "\n",
              "    .colab-df-convert:hover {\n",
              "      background-color: #E2EBFA;\n",
              "      box-shadow: 0px 1px 2px rgba(60, 64, 67, 0.3), 0px 1px 3px 1px rgba(60, 64, 67, 0.15);\n",
              "      fill: #174EA6;\n",
              "    }\n",
              "\n",
              "    .colab-df-buttons div {\n",
              "      margin-bottom: 4px;\n",
              "    }\n",
              "\n",
              "    [theme=dark] .colab-df-convert {\n",
              "      background-color: #3B4455;\n",
              "      fill: #D2E3FC;\n",
              "    }\n",
              "\n",
              "    [theme=dark] .colab-df-convert:hover {\n",
              "      background-color: #434B5C;\n",
              "      box-shadow: 0px 1px 3px 1px rgba(0, 0, 0, 0.15);\n",
              "      filter: drop-shadow(0px 1px 2px rgba(0, 0, 0, 0.3));\n",
              "      fill: #FFFFFF;\n",
              "    }\n",
              "  </style>\n",
              "\n",
              "    <script>\n",
              "      const buttonEl =\n",
              "        document.querySelector('#df-abf1e773-d761-4134-96ea-ce9840b99012 button.colab-df-convert');\n",
              "      buttonEl.style.display =\n",
              "        google.colab.kernel.accessAllowed ? 'block' : 'none';\n",
              "\n",
              "      async function convertToInteractive(key) {\n",
              "        const element = document.querySelector('#df-abf1e773-d761-4134-96ea-ce9840b99012');\n",
              "        const dataTable =\n",
              "          await google.colab.kernel.invokeFunction('convertToInteractive',\n",
              "                                                    [key], {});\n",
              "        if (!dataTable) return;\n",
              "\n",
              "        const docLinkHtml = 'Like what you see? Visit the ' +\n",
              "          '<a target=\"_blank\" href=https://colab.research.google.com/notebooks/data_table.ipynb>data table notebook</a>'\n",
              "          + ' to learn more about interactive tables.';\n",
              "        element.innerHTML = '';\n",
              "        dataTable['output_type'] = 'display_data';\n",
              "        await google.colab.output.renderOutput(dataTable, element);\n",
              "        const docLink = document.createElement('div');\n",
              "        docLink.innerHTML = docLinkHtml;\n",
              "        element.appendChild(docLink);\n",
              "      }\n",
              "    </script>\n",
              "  </div>\n",
              "\n",
              "\n",
              "<div id=\"df-111af08f-f8a0-4f03-96c3-87c682ab1d39\">\n",
              "  <button class=\"colab-df-quickchart\" onclick=\"quickchart('df-111af08f-f8a0-4f03-96c3-87c682ab1d39')\"\n",
              "            title=\"Suggest charts\"\n",
              "            style=\"display:none;\">\n",
              "\n",
              "<svg xmlns=\"http://www.w3.org/2000/svg\" height=\"24px\"viewBox=\"0 0 24 24\"\n",
              "     width=\"24px\">\n",
              "    <g>\n",
              "        <path d=\"M19 3H5c-1.1 0-2 .9-2 2v14c0 1.1.9 2 2 2h14c1.1 0 2-.9 2-2V5c0-1.1-.9-2-2-2zM9 17H7v-7h2v7zm4 0h-2V7h2v10zm4 0h-2v-4h2v4z\"/>\n",
              "    </g>\n",
              "</svg>\n",
              "  </button>\n",
              "\n",
              "<style>\n",
              "  .colab-df-quickchart {\n",
              "      --bg-color: #E8F0FE;\n",
              "      --fill-color: #1967D2;\n",
              "      --hover-bg-color: #E2EBFA;\n",
              "      --hover-fill-color: #174EA6;\n",
              "      --disabled-fill-color: #AAA;\n",
              "      --disabled-bg-color: #DDD;\n",
              "  }\n",
              "\n",
              "  [theme=dark] .colab-df-quickchart {\n",
              "      --bg-color: #3B4455;\n",
              "      --fill-color: #D2E3FC;\n",
              "      --hover-bg-color: #434B5C;\n",
              "      --hover-fill-color: #FFFFFF;\n",
              "      --disabled-bg-color: #3B4455;\n",
              "      --disabled-fill-color: #666;\n",
              "  }\n",
              "\n",
              "  .colab-df-quickchart {\n",
              "    background-color: var(--bg-color);\n",
              "    border: none;\n",
              "    border-radius: 50%;\n",
              "    cursor: pointer;\n",
              "    display: none;\n",
              "    fill: var(--fill-color);\n",
              "    height: 32px;\n",
              "    padding: 0;\n",
              "    width: 32px;\n",
              "  }\n",
              "\n",
              "  .colab-df-quickchart:hover {\n",
              "    background-color: var(--hover-bg-color);\n",
              "    box-shadow: 0 1px 2px rgba(60, 64, 67, 0.3), 0 1px 3px 1px rgba(60, 64, 67, 0.15);\n",
              "    fill: var(--button-hover-fill-color);\n",
              "  }\n",
              "\n",
              "  .colab-df-quickchart-complete:disabled,\n",
              "  .colab-df-quickchart-complete:disabled:hover {\n",
              "    background-color: var(--disabled-bg-color);\n",
              "    fill: var(--disabled-fill-color);\n",
              "    box-shadow: none;\n",
              "  }\n",
              "\n",
              "  .colab-df-spinner {\n",
              "    border: 2px solid var(--fill-color);\n",
              "    border-color: transparent;\n",
              "    border-bottom-color: var(--fill-color);\n",
              "    animation:\n",
              "      spin 1s steps(1) infinite;\n",
              "  }\n",
              "\n",
              "  @keyframes spin {\n",
              "    0% {\n",
              "      border-color: transparent;\n",
              "      border-bottom-color: var(--fill-color);\n",
              "      border-left-color: var(--fill-color);\n",
              "    }\n",
              "    20% {\n",
              "      border-color: transparent;\n",
              "      border-left-color: var(--fill-color);\n",
              "      border-top-color: var(--fill-color);\n",
              "    }\n",
              "    30% {\n",
              "      border-color: transparent;\n",
              "      border-left-color: var(--fill-color);\n",
              "      border-top-color: var(--fill-color);\n",
              "      border-right-color: var(--fill-color);\n",
              "    }\n",
              "    40% {\n",
              "      border-color: transparent;\n",
              "      border-right-color: var(--fill-color);\n",
              "      border-top-color: var(--fill-color);\n",
              "    }\n",
              "    60% {\n",
              "      border-color: transparent;\n",
              "      border-right-color: var(--fill-color);\n",
              "    }\n",
              "    80% {\n",
              "      border-color: transparent;\n",
              "      border-right-color: var(--fill-color);\n",
              "      border-bottom-color: var(--fill-color);\n",
              "    }\n",
              "    90% {\n",
              "      border-color: transparent;\n",
              "      border-bottom-color: var(--fill-color);\n",
              "    }\n",
              "  }\n",
              "</style>\n",
              "\n",
              "  <script>\n",
              "    async function quickchart(key) {\n",
              "      const quickchartButtonEl =\n",
              "        document.querySelector('#' + key + ' button');\n",
              "      quickchartButtonEl.disabled = true;  // To prevent multiple clicks.\n",
              "      quickchartButtonEl.classList.add('colab-df-spinner');\n",
              "      try {\n",
              "        const charts = await google.colab.kernel.invokeFunction(\n",
              "            'suggestCharts', [key], {});\n",
              "      } catch (error) {\n",
              "        console.error('Error during call to suggestCharts:', error);\n",
              "      }\n",
              "      quickchartButtonEl.classList.remove('colab-df-spinner');\n",
              "      quickchartButtonEl.classList.add('colab-df-quickchart-complete');\n",
              "    }\n",
              "    (() => {\n",
              "      let quickchartButtonEl =\n",
              "        document.querySelector('#df-111af08f-f8a0-4f03-96c3-87c682ab1d39 button');\n",
              "      quickchartButtonEl.style.display =\n",
              "        google.colab.kernel.accessAllowed ? 'block' : 'none';\n",
              "    })();\n",
              "  </script>\n",
              "</div>\n",
              "\n",
              "  <div id=\"id_114bb7b7-9e59-4aee-9531-9da004ab6b13\">\n",
              "    <style>\n",
              "      .colab-df-generate {\n",
              "        background-color: #E8F0FE;\n",
              "        border: none;\n",
              "        border-radius: 50%;\n",
              "        cursor: pointer;\n",
              "        display: none;\n",
              "        fill: #1967D2;\n",
              "        height: 32px;\n",
              "        padding: 0 0 0 0;\n",
              "        width: 32px;\n",
              "      }\n",
              "\n",
              "      .colab-df-generate:hover {\n",
              "        background-color: #E2EBFA;\n",
              "        box-shadow: 0px 1px 2px rgba(60, 64, 67, 0.3), 0px 1px 3px 1px rgba(60, 64, 67, 0.15);\n",
              "        fill: #174EA6;\n",
              "      }\n",
              "\n",
              "      [theme=dark] .colab-df-generate {\n",
              "        background-color: #3B4455;\n",
              "        fill: #D2E3FC;\n",
              "      }\n",
              "\n",
              "      [theme=dark] .colab-df-generate:hover {\n",
              "        background-color: #434B5C;\n",
              "        box-shadow: 0px 1px 3px 1px rgba(0, 0, 0, 0.15);\n",
              "        filter: drop-shadow(0px 1px 2px rgba(0, 0, 0, 0.3));\n",
              "        fill: #FFFFFF;\n",
              "      }\n",
              "    </style>\n",
              "    <button class=\"colab-df-generate\" onclick=\"generateWithVariable('NaturalGas')\"\n",
              "            title=\"Generate code using this dataframe.\"\n",
              "            style=\"display:none;\">\n",
              "\n",
              "  <svg xmlns=\"http://www.w3.org/2000/svg\" height=\"24px\"viewBox=\"0 0 24 24\"\n",
              "       width=\"24px\">\n",
              "    <path d=\"M7,19H8.4L18.45,9,17,7.55,7,17.6ZM5,21V16.75L18.45,3.32a2,2,0,0,1,2.83,0l1.4,1.43a1.91,1.91,0,0,1,.58,1.4,1.91,1.91,0,0,1-.58,1.4L9.25,21ZM18.45,9,17,7.55Zm-12,3A5.31,5.31,0,0,0,4.9,8.1,5.31,5.31,0,0,0,1,6.5,5.31,5.31,0,0,0,4.9,4.9,5.31,5.31,0,0,0,6.5,1,5.31,5.31,0,0,0,8.1,4.9,5.31,5.31,0,0,0,12,6.5,5.46,5.46,0,0,0,6.5,12Z\"/>\n",
              "  </svg>\n",
              "    </button>\n",
              "    <script>\n",
              "      (() => {\n",
              "      const buttonEl =\n",
              "        document.querySelector('#id_114bb7b7-9e59-4aee-9531-9da004ab6b13 button.colab-df-generate');\n",
              "      buttonEl.style.display =\n",
              "        google.colab.kernel.accessAllowed ? 'block' : 'none';\n",
              "\n",
              "      buttonEl.onclick = () => {\n",
              "        google.colab.notebook.generateWithVariable('NaturalGas');\n",
              "      }\n",
              "      })();\n",
              "    </script>\n",
              "  </div>\n",
              "\n",
              "    </div>\n",
              "  </div>\n"
            ],
            "application/vnd.google.colaboratory.intrinsic+json": {
              "type": "dataframe",
              "variable_name": "NaturalGas",
              "summary": "{\n  \"name\": \"NaturalGas\",\n  \"rows\": 48,\n  \"fields\": [\n    {\n      \"column\": \"Dates\",\n      \"properties\": {\n        \"dtype\": \"object\",\n        \"num_unique_values\": 48,\n        \"samples\": [\n          \"1/31/23\",\n          \"2/29/24\",\n          \"12/31/22\"\n        ],\n        \"semantic_type\": \"\",\n        \"description\": \"\"\n      }\n    },\n    {\n      \"column\": \"Prices\",\n      \"properties\": {\n        \"dtype\": \"number\",\n        \"std\": 0.7578973105463122,\n        \"min\": 9.84,\n        \"max\": 12.8,\n        \"num_unique_values\": 25,\n        \"samples\": [\n          11.2,\n          12.1,\n          10.1\n        ],\n        \"semantic_type\": \"\",\n        \"description\": \"\"\n      }\n    }\n  ]\n}"
            }
          },
          "metadata": {},
          "execution_count": 300
        }
      ],
      "source": [
        "NaturalGas = pd.read_csv('Nat_Gas.csv')\n",
        "NaturalGas"
      ]
    },
    {
      "cell_type": "code",
      "execution_count": 301,
      "metadata": {
        "colab": {
          "base_uri": "https://localhost:8080/",
          "height": 630
        },
        "id": "AceMRD9wNRVM",
        "outputId": "8a38acb6-c6dd-4ebf-f923-d549ba4a2235"
      },
      "outputs": [
        {
          "output_type": "stream",
          "name": "stderr",
          "text": [
            "<ipython-input-301-d916342b3bd1>:5: UserWarning:\n",
            "\n",
            "Could not infer format, so each element will be parsed individually, falling back to `dateutil`. To ensure parsing is consistent and as-expected, please specify a format.\n",
            "\n"
          ]
        },
        {
          "output_type": "display_data",
          "data": {
            "text/html": [
              "<html>\n",
              "<head><meta charset=\"utf-8\" /></head>\n",
              "<body>\n",
              "    <div>            <script src=\"https://cdnjs.cloudflare.com/ajax/libs/mathjax/2.7.5/MathJax.js?config=TeX-AMS-MML_SVG\"></script><script type=\"text/javascript\">if (window.MathJax && window.MathJax.Hub && window.MathJax.Hub.Config) {window.MathJax.Hub.Config({SVG: {font: \"STIX-Web\"}});}</script>                <script type=\"text/javascript\">window.PlotlyConfig = {MathJaxConfig: 'local'};</script>\n",
              "        <script charset=\"utf-8\" src=\"https://cdn.plot.ly/plotly-2.35.2.min.js\"></script>                <div id=\"1694fe2e-14c9-4dd8-897c-c1f094b6cebc\" class=\"plotly-graph-div\" style=\"height:525px; width:100%;\"></div>            <script type=\"text/javascript\">                                    window.PLOTLYENV=window.PLOTLYENV || {};                                    if (document.getElementById(\"1694fe2e-14c9-4dd8-897c-c1f094b6cebc\")) {                    Plotly.newPlot(                        \"1694fe2e-14c9-4dd8-897c-c1f094b6cebc\",                        [{\"hovertemplate\":\"Date=%{x}\\u003cbr\\u003ePrice=%{y}\\u003cextra\\u003e\\u003c\\u002fextra\\u003e\",\"legendgroup\":\"\",\"line\":{\"color\":\"#636efa\",\"dash\":\"solid\"},\"marker\":{\"symbol\":\"circle\"},\"mode\":\"lines+markers\",\"name\":\"\",\"orientation\":\"v\",\"showlegend\":false,\"x\":[\"2020-10-31T00:00:00\",\"2020-11-30T00:00:00\",\"2020-12-31T00:00:00\",\"2021-01-31T00:00:00\",\"2021-02-28T00:00:00\",\"2021-03-31T00:00:00\",\"2021-04-30T00:00:00\",\"2021-05-31T00:00:00\",\"2021-06-30T00:00:00\",\"2021-07-31T00:00:00\",\"2021-08-31T00:00:00\",\"2021-09-30T00:00:00\",\"2021-10-31T00:00:00\",\"2021-11-30T00:00:00\",\"2021-12-31T00:00:00\",\"2022-01-31T00:00:00\",\"2022-02-28T00:00:00\",\"2022-03-31T00:00:00\",\"2022-04-30T00:00:00\",\"2022-05-31T00:00:00\",\"2022-06-30T00:00:00\",\"2022-07-31T00:00:00\",\"2022-08-31T00:00:00\",\"2022-09-30T00:00:00\",\"2022-10-31T00:00:00\",\"2022-11-30T00:00:00\",\"2022-12-31T00:00:00\",\"2023-01-31T00:00:00\",\"2023-02-28T00:00:00\",\"2023-03-31T00:00:00\",\"2023-04-30T00:00:00\",\"2023-05-31T00:00:00\",\"2023-06-30T00:00:00\",\"2023-07-31T00:00:00\",\"2023-08-31T00:00:00\",\"2023-09-30T00:00:00\",\"2023-10-31T00:00:00\",\"2023-11-30T00:00:00\",\"2023-12-31T00:00:00\",\"2024-01-31T00:00:00\",\"2024-02-29T00:00:00\",\"2024-03-31T00:00:00\",\"2024-04-30T00:00:00\",\"2024-05-31T00:00:00\",\"2024-06-30T00:00:00\",\"2024-07-31T00:00:00\",\"2024-08-31T00:00:00\",\"2024-09-30T00:00:00\"],\"xaxis\":\"x\",\"y\":[10.1,10.3,11.0,10.9,10.9,10.9,10.4,9.84,10.0,10.1,10.3,10.2,10.1,11.2,11.4,11.5,11.8,11.5,10.7,10.7,10.4,10.5,10.4,10.8,11.0,11.6,11.6,12.1,11.7,12.0,11.5,11.2,10.9,11.4,11.1,11.5,11.8,12.2,12.8,12.6,12.4,12.7,12.1,11.4,11.5,11.6,11.5,11.8],\"yaxis\":\"y\",\"type\":\"scatter\"}],                        {\"template\":{\"data\":{\"histogram2dcontour\":[{\"type\":\"histogram2dcontour\",\"colorbar\":{\"outlinewidth\":0,\"ticks\":\"\"},\"colorscale\":[[0.0,\"#0d0887\"],[0.1111111111111111,\"#46039f\"],[0.2222222222222222,\"#7201a8\"],[0.3333333333333333,\"#9c179e\"],[0.4444444444444444,\"#bd3786\"],[0.5555555555555556,\"#d8576b\"],[0.6666666666666666,\"#ed7953\"],[0.7777777777777778,\"#fb9f3a\"],[0.8888888888888888,\"#fdca26\"],[1.0,\"#f0f921\"]]}],\"choropleth\":[{\"type\":\"choropleth\",\"colorbar\":{\"outlinewidth\":0,\"ticks\":\"\"}}],\"histogram2d\":[{\"type\":\"histogram2d\",\"colorbar\":{\"outlinewidth\":0,\"ticks\":\"\"},\"colorscale\":[[0.0,\"#0d0887\"],[0.1111111111111111,\"#46039f\"],[0.2222222222222222,\"#7201a8\"],[0.3333333333333333,\"#9c179e\"],[0.4444444444444444,\"#bd3786\"],[0.5555555555555556,\"#d8576b\"],[0.6666666666666666,\"#ed7953\"],[0.7777777777777778,\"#fb9f3a\"],[0.8888888888888888,\"#fdca26\"],[1.0,\"#f0f921\"]]}],\"heatmap\":[{\"type\":\"heatmap\",\"colorbar\":{\"outlinewidth\":0,\"ticks\":\"\"},\"colorscale\":[[0.0,\"#0d0887\"],[0.1111111111111111,\"#46039f\"],[0.2222222222222222,\"#7201a8\"],[0.3333333333333333,\"#9c179e\"],[0.4444444444444444,\"#bd3786\"],[0.5555555555555556,\"#d8576b\"],[0.6666666666666666,\"#ed7953\"],[0.7777777777777778,\"#fb9f3a\"],[0.8888888888888888,\"#fdca26\"],[1.0,\"#f0f921\"]]}],\"heatmapgl\":[{\"type\":\"heatmapgl\",\"colorbar\":{\"outlinewidth\":0,\"ticks\":\"\"},\"colorscale\":[[0.0,\"#0d0887\"],[0.1111111111111111,\"#46039f\"],[0.2222222222222222,\"#7201a8\"],[0.3333333333333333,\"#9c179e\"],[0.4444444444444444,\"#bd3786\"],[0.5555555555555556,\"#d8576b\"],[0.6666666666666666,\"#ed7953\"],[0.7777777777777778,\"#fb9f3a\"],[0.8888888888888888,\"#fdca26\"],[1.0,\"#f0f921\"]]}],\"contourcarpet\":[{\"type\":\"contourcarpet\",\"colorbar\":{\"outlinewidth\":0,\"ticks\":\"\"}}],\"contour\":[{\"type\":\"contour\",\"colorbar\":{\"outlinewidth\":0,\"ticks\":\"\"},\"colorscale\":[[0.0,\"#0d0887\"],[0.1111111111111111,\"#46039f\"],[0.2222222222222222,\"#7201a8\"],[0.3333333333333333,\"#9c179e\"],[0.4444444444444444,\"#bd3786\"],[0.5555555555555556,\"#d8576b\"],[0.6666666666666666,\"#ed7953\"],[0.7777777777777778,\"#fb9f3a\"],[0.8888888888888888,\"#fdca26\"],[1.0,\"#f0f921\"]]}],\"surface\":[{\"type\":\"surface\",\"colorbar\":{\"outlinewidth\":0,\"ticks\":\"\"},\"colorscale\":[[0.0,\"#0d0887\"],[0.1111111111111111,\"#46039f\"],[0.2222222222222222,\"#7201a8\"],[0.3333333333333333,\"#9c179e\"],[0.4444444444444444,\"#bd3786\"],[0.5555555555555556,\"#d8576b\"],[0.6666666666666666,\"#ed7953\"],[0.7777777777777778,\"#fb9f3a\"],[0.8888888888888888,\"#fdca26\"],[1.0,\"#f0f921\"]]}],\"mesh3d\":[{\"type\":\"mesh3d\",\"colorbar\":{\"outlinewidth\":0,\"ticks\":\"\"}}],\"scatter\":[{\"fillpattern\":{\"fillmode\":\"overlay\",\"size\":10,\"solidity\":0.2},\"type\":\"scatter\"}],\"parcoords\":[{\"type\":\"parcoords\",\"line\":{\"colorbar\":{\"outlinewidth\":0,\"ticks\":\"\"}}}],\"scatterpolargl\":[{\"type\":\"scatterpolargl\",\"marker\":{\"colorbar\":{\"outlinewidth\":0,\"ticks\":\"\"}}}],\"bar\":[{\"error_x\":{\"color\":\"#2a3f5f\"},\"error_y\":{\"color\":\"#2a3f5f\"},\"marker\":{\"line\":{\"color\":\"#E5ECF6\",\"width\":0.5},\"pattern\":{\"fillmode\":\"overlay\",\"size\":10,\"solidity\":0.2}},\"type\":\"bar\"}],\"scattergeo\":[{\"type\":\"scattergeo\",\"marker\":{\"colorbar\":{\"outlinewidth\":0,\"ticks\":\"\"}}}],\"scatterpolar\":[{\"type\":\"scatterpolar\",\"marker\":{\"colorbar\":{\"outlinewidth\":0,\"ticks\":\"\"}}}],\"histogram\":[{\"marker\":{\"pattern\":{\"fillmode\":\"overlay\",\"size\":10,\"solidity\":0.2}},\"type\":\"histogram\"}],\"scattergl\":[{\"type\":\"scattergl\",\"marker\":{\"colorbar\":{\"outlinewidth\":0,\"ticks\":\"\"}}}],\"scatter3d\":[{\"type\":\"scatter3d\",\"line\":{\"colorbar\":{\"outlinewidth\":0,\"ticks\":\"\"}},\"marker\":{\"colorbar\":{\"outlinewidth\":0,\"ticks\":\"\"}}}],\"scattermapbox\":[{\"type\":\"scattermapbox\",\"marker\":{\"colorbar\":{\"outlinewidth\":0,\"ticks\":\"\"}}}],\"scatterternary\":[{\"type\":\"scatterternary\",\"marker\":{\"colorbar\":{\"outlinewidth\":0,\"ticks\":\"\"}}}],\"scattercarpet\":[{\"type\":\"scattercarpet\",\"marker\":{\"colorbar\":{\"outlinewidth\":0,\"ticks\":\"\"}}}],\"carpet\":[{\"aaxis\":{\"endlinecolor\":\"#2a3f5f\",\"gridcolor\":\"white\",\"linecolor\":\"white\",\"minorgridcolor\":\"white\",\"startlinecolor\":\"#2a3f5f\"},\"baxis\":{\"endlinecolor\":\"#2a3f5f\",\"gridcolor\":\"white\",\"linecolor\":\"white\",\"minorgridcolor\":\"white\",\"startlinecolor\":\"#2a3f5f\"},\"type\":\"carpet\"}],\"table\":[{\"cells\":{\"fill\":{\"color\":\"#EBF0F8\"},\"line\":{\"color\":\"white\"}},\"header\":{\"fill\":{\"color\":\"#C8D4E3\"},\"line\":{\"color\":\"white\"}},\"type\":\"table\"}],\"barpolar\":[{\"marker\":{\"line\":{\"color\":\"#E5ECF6\",\"width\":0.5},\"pattern\":{\"fillmode\":\"overlay\",\"size\":10,\"solidity\":0.2}},\"type\":\"barpolar\"}],\"pie\":[{\"automargin\":true,\"type\":\"pie\"}]},\"layout\":{\"autotypenumbers\":\"strict\",\"colorway\":[\"#636efa\",\"#EF553B\",\"#00cc96\",\"#ab63fa\",\"#FFA15A\",\"#19d3f3\",\"#FF6692\",\"#B6E880\",\"#FF97FF\",\"#FECB52\"],\"font\":{\"color\":\"#2a3f5f\"},\"hovermode\":\"closest\",\"hoverlabel\":{\"align\":\"left\"},\"paper_bgcolor\":\"white\",\"plot_bgcolor\":\"#E5ECF6\",\"polar\":{\"bgcolor\":\"#E5ECF6\",\"angularaxis\":{\"gridcolor\":\"white\",\"linecolor\":\"white\",\"ticks\":\"\"},\"radialaxis\":{\"gridcolor\":\"white\",\"linecolor\":\"white\",\"ticks\":\"\"}},\"ternary\":{\"bgcolor\":\"#E5ECF6\",\"aaxis\":{\"gridcolor\":\"white\",\"linecolor\":\"white\",\"ticks\":\"\"},\"baxis\":{\"gridcolor\":\"white\",\"linecolor\":\"white\",\"ticks\":\"\"},\"caxis\":{\"gridcolor\":\"white\",\"linecolor\":\"white\",\"ticks\":\"\"}},\"coloraxis\":{\"colorbar\":{\"outlinewidth\":0,\"ticks\":\"\"}},\"colorscale\":{\"sequential\":[[0.0,\"#0d0887\"],[0.1111111111111111,\"#46039f\"],[0.2222222222222222,\"#7201a8\"],[0.3333333333333333,\"#9c179e\"],[0.4444444444444444,\"#bd3786\"],[0.5555555555555556,\"#d8576b\"],[0.6666666666666666,\"#ed7953\"],[0.7777777777777778,\"#fb9f3a\"],[0.8888888888888888,\"#fdca26\"],[1.0,\"#f0f921\"]],\"sequentialminus\":[[0.0,\"#0d0887\"],[0.1111111111111111,\"#46039f\"],[0.2222222222222222,\"#7201a8\"],[0.3333333333333333,\"#9c179e\"],[0.4444444444444444,\"#bd3786\"],[0.5555555555555556,\"#d8576b\"],[0.6666666666666666,\"#ed7953\"],[0.7777777777777778,\"#fb9f3a\"],[0.8888888888888888,\"#fdca26\"],[1.0,\"#f0f921\"]],\"diverging\":[[0,\"#8e0152\"],[0.1,\"#c51b7d\"],[0.2,\"#de77ae\"],[0.3,\"#f1b6da\"],[0.4,\"#fde0ef\"],[0.5,\"#f7f7f7\"],[0.6,\"#e6f5d0\"],[0.7,\"#b8e186\"],[0.8,\"#7fbc41\"],[0.9,\"#4d9221\"],[1,\"#276419\"]]},\"xaxis\":{\"gridcolor\":\"white\",\"linecolor\":\"white\",\"ticks\":\"\",\"title\":{\"standoff\":15},\"zerolinecolor\":\"white\",\"automargin\":true,\"zerolinewidth\":2},\"yaxis\":{\"gridcolor\":\"white\",\"linecolor\":\"white\",\"ticks\":\"\",\"title\":{\"standoff\":15},\"zerolinecolor\":\"white\",\"automargin\":true,\"zerolinewidth\":2},\"scene\":{\"xaxis\":{\"backgroundcolor\":\"#E5ECF6\",\"gridcolor\":\"white\",\"linecolor\":\"white\",\"showbackground\":true,\"ticks\":\"\",\"zerolinecolor\":\"white\",\"gridwidth\":2},\"yaxis\":{\"backgroundcolor\":\"#E5ECF6\",\"gridcolor\":\"white\",\"linecolor\":\"white\",\"showbackground\":true,\"ticks\":\"\",\"zerolinecolor\":\"white\",\"gridwidth\":2},\"zaxis\":{\"backgroundcolor\":\"#E5ECF6\",\"gridcolor\":\"white\",\"linecolor\":\"white\",\"showbackground\":true,\"ticks\":\"\",\"zerolinecolor\":\"white\",\"gridwidth\":2}},\"shapedefaults\":{\"line\":{\"color\":\"#2a3f5f\"}},\"annotationdefaults\":{\"arrowcolor\":\"#2a3f5f\",\"arrowhead\":0,\"arrowwidth\":1},\"geo\":{\"bgcolor\":\"white\",\"landcolor\":\"#E5ECF6\",\"subunitcolor\":\"white\",\"showland\":true,\"showlakes\":true,\"lakecolor\":\"white\"},\"title\":{\"x\":0.05},\"mapbox\":{\"style\":\"light\"}}},\"xaxis\":{\"anchor\":\"y\",\"domain\":[0.0,1.0],\"title\":{\"text\":\"Date\"}},\"yaxis\":{\"anchor\":\"x\",\"domain\":[0.0,1.0],\"title\":{\"text\":\"Price\"}},\"legend\":{\"tracegroupgap\":0},\"title\":{\"text\":\"Natural Gas Prices Over Time\"}},                        {\"responsive\": true}                    ).then(function(){\n",
              "                            \n",
              "var gd = document.getElementById('1694fe2e-14c9-4dd8-897c-c1f094b6cebc');\n",
              "var x = new MutationObserver(function (mutations, observer) {{\n",
              "        var display = window.getComputedStyle(gd).display;\n",
              "        if (!display || display === 'none') {{\n",
              "            console.log([gd, 'removed!']);\n",
              "            Plotly.purge(gd);\n",
              "            observer.disconnect();\n",
              "        }}\n",
              "}});\n",
              "\n",
              "// Listen for the removal of the full notebook cells\n",
              "var notebookContainer = gd.closest('#notebook-container');\n",
              "if (notebookContainer) {{\n",
              "    x.observe(notebookContainer, {childList: true});\n",
              "}}\n",
              "\n",
              "// Listen for the clearing of the current output cell\n",
              "var outputEl = gd.closest('.output');\n",
              "if (outputEl) {{\n",
              "    x.observe(outputEl, {childList: true});\n",
              "}}\n",
              "\n",
              "                        })                };                            </script>        </div>\n",
              "</body>\n",
              "</html>"
            ]
          },
          "metadata": {}
        }
      ],
      "source": [
        "import pandas as pd\n",
        "import plotly.express as px\n",
        "\n",
        "# Assuming the CSV has already been loaded\n",
        "NaturalGas['Dates'] = pd.to_datetime(NaturalGas['Dates'])\n",
        "\n",
        "# Create the Plotly line chart\n",
        "fig = px.line(NaturalGas, x='Dates', y='Prices', title='Natural Gas Prices Over Time',\n",
        "              labels={'Prices': 'Price', 'Dates': 'Date'}, markers=True)\n",
        "\n",
        "# Show the interactive plot\n",
        "fig.show()\n"
      ]
    },
    {
      "cell_type": "markdown",
      "source": [
        "##ARIMA Forecasting:"
      ],
      "metadata": {
        "id": "MR4iEAigkvWL"
      }
    },
    {
      "cell_type": "code",
      "execution_count": 302,
      "metadata": {
        "id": "JXQfhDrwNLvm",
        "colab": {
          "base_uri": "https://localhost:8080/"
        },
        "outputId": "d8cb3311-9374-4d5f-bc32-9f8880e46cce"
      },
      "outputs": [
        {
          "output_type": "stream",
          "name": "stderr",
          "text": [
            "<ipython-input-302-543dd225caca>:12: FutureWarning:\n",
            "\n",
            "'M' is deprecated and will be removed in a future version, please use 'ME' instead.\n",
            "\n"
          ]
        }
      ],
      "source": [
        "from statsmodels.tsa.arima.model import ARIMA\n",
        "\n",
        "# Fit ARIMA model (order can be tuned for better performance)\n",
        "model_arima = ARIMA(NaturalGas['Prices'], order=(5, 1, 0))\n",
        "model_arima_fit = model_arima.fit()\n",
        "\n",
        "# Forecast for the next 12 months\n",
        "forecast_arima = model_arima_fit.forecast(steps=12)\n",
        "\n",
        "# Generate future dates for the next 12 months\n",
        "last_date = NaturalGas['Dates'].iloc[-1]\n",
        "future_dates = pd.date_range(last_date + pd.DateOffset(months=1), periods=12, freq='M')\n",
        "\n",
        "# Create DataFrame for ARIMA forecast\n",
        "forecast_arima_df = pd.DataFrame({\n",
        "    'Dates': future_dates,\n",
        "    'Prices': forecast_arima\n",
        "})\n"
      ]
    },
    {
      "cell_type": "code",
      "execution_count": 303,
      "metadata": {
        "id": "mP8cvk5CS99y"
      },
      "outputs": [],
      "source": [
        "# Combine with historical data\n",
        "forecast_arima_df = pd.concat([NaturalGas, forecast_arima_df], ignore_index=True)\n",
        "\n"
      ]
    },
    {
      "cell_type": "markdown",
      "source": [
        "##SARIMA Forecasting:"
      ],
      "metadata": {
        "id": "atIGPPYkkz0G"
      }
    },
    {
      "cell_type": "code",
      "execution_count": 304,
      "metadata": {
        "colab": {
          "base_uri": "https://localhost:8080/"
        },
        "id": "QuDlji64QRFA",
        "outputId": "37cb73ed-fab2-4501-df05-749069ed4067"
      },
      "outputs": [
        {
          "output_type": "stream",
          "name": "stderr",
          "text": [
            "/usr/local/lib/python3.10/dist-packages/statsmodels/tsa/statespace/sarimax.py:866: UserWarning:\n",
            "\n",
            "Too few observations to estimate starting parameters for seasonal ARMA. All parameters except for variances will be set to zeros.\n",
            "\n"
          ]
        }
      ],
      "source": [
        "from statsmodels.tsa.statespace.sarimax import SARIMAX\n",
        "\n",
        "# Fit SARIMA model (order and seasonal_order can be tuned for better performance)\n",
        "model_sarima = SARIMAX(NaturalGas['Prices'], order=(5, 1, 0), seasonal_order=(1, 1, 1, 12))\n",
        "model_sarima_fit = model_sarima.fit()\n",
        "\n",
        "# Forecast for the next 12 months\n",
        "forecast_sarima = model_sarima_fit.forecast(steps=12)\n",
        "\n",
        "# Create DataFrame for SARIMA forecast\n",
        "forecast_sarima_df = pd.DataFrame({\n",
        "    'Dates': future_dates,\n",
        "    'Prices': forecast_sarima\n",
        "})\n",
        "\n"
      ]
    },
    {
      "cell_type": "code",
      "execution_count": 305,
      "metadata": {
        "id": "5N-mwk5-UGkZ"
      },
      "outputs": [],
      "source": [
        "# Combine with historical data\n",
        "forecast_sarima_df = pd.concat([NaturalGas, forecast_sarima_df], ignore_index=True)\n",
        "\n"
      ]
    },
    {
      "cell_type": "markdown",
      "source": [
        "##Exponential Smoothing Forecasting:"
      ],
      "metadata": {
        "id": "tPM52OVtk632"
      }
    },
    {
      "cell_type": "code",
      "execution_count": 306,
      "metadata": {
        "id": "6tzTH0nYUcS-"
      },
      "outputs": [],
      "source": [
        "from statsmodels.tsa.holtwinters import ExponentialSmoothing\n",
        "\n",
        "# Fit Exponential Smoothing model\n",
        "model_ets = ExponentialSmoothing(NaturalGas['Prices'], seasonal='add', trend='add', seasonal_periods=12)\n",
        "model_ets_fit = model_ets.fit()\n",
        "\n",
        "# Forecast for the next 12 months\n",
        "forecast_ets = model_ets_fit.forecast(steps=12)\n",
        "\n",
        "# Create DataFrame for Exponential Smoothing forecast\n",
        "forecast_ets_df = pd.DataFrame({\n",
        "    'Dates': future_dates,\n",
        "    'Prices': forecast_ets\n",
        "})\n"
      ]
    },
    {
      "cell_type": "code",
      "execution_count": 307,
      "metadata": {
        "id": "dIRhipgSUndD"
      },
      "outputs": [],
      "source": [
        "# Combine with historical data\n",
        "forecast_ets_df = pd.concat([NaturalGas, forecast_ets_df], ignore_index=True)\n",
        "\n"
      ]
    },
    {
      "cell_type": "markdown",
      "source": [
        "## TimeGPT Forecasting:"
      ],
      "metadata": {
        "id": "m5B0Pc-ARifQ"
      }
    },
    {
      "cell_type": "code",
      "source": [
        "train_df = NaturalGas.copy()\n",
        "# Create an empty DataFrame with the same columns as df1\n",
        "test_df = pd.DataFrame(columns=train_df.columns)\n",
        "# Select the last 12 rows\n",
        "rows_to_move = train_df.iloc[36:]\n",
        "\n",
        "# Append these rows to df2\n",
        "test_df = pd.concat([test_df, rows_to_move], ignore_index=True)\n",
        "\n",
        "# Remove the last 12 rows\n",
        "train_df = train_df.iloc[:36]"
      ],
      "metadata": {
        "colab": {
          "base_uri": "https://localhost:8080/"
        },
        "id": "7t3AmtYeRZmU",
        "outputId": "3e49a6a1-9aee-44ac-e79f-ca3a729df1ce"
      },
      "execution_count": 308,
      "outputs": [
        {
          "output_type": "stream",
          "name": "stderr",
          "text": [
            "<ipython-input-308-ce05d340422e>:8: FutureWarning:\n",
            "\n",
            "The behavior of DataFrame concatenation with empty or all-NA entries is deprecated. In a future version, this will no longer exclude empty or all-NA columns when determining the result dtypes. To retain the old behavior, exclude the relevant entries before the concat operation.\n",
            "\n"
          ]
        }
      ]
    },
    {
      "cell_type": "code",
      "source": [
        "forecast_TimesGPT_df = nixtla_client.forecast(\n",
        "    df=train_df,\n",
        "    h=12,\n",
        "    time_col='Dates',\n",
        "    target_col=\"Prices\"\n",
        ")\n",
        "\n",
        "# Plot predictions\n",
        "# Pass the correct time_col and target_col arguments to nixtla_client.plot()\n",
        "nixtla_client.plot(\n",
        "    df=train_df,\n",
        "    forecasts_df=forecast_TimesGPT_df,\n",
        "    time_col='Dates',\n",
        "    target_col='Prices'\n",
        ")"
      ],
      "metadata": {
        "colab": {
          "base_uri": "https://localhost:8080/",
          "height": 288
        },
        "id": "py9oC3yERcBZ",
        "outputId": "6b1387b5-63ca-4154-8d01-79707bb8542c"
      },
      "execution_count": 309,
      "outputs": [
        {
          "output_type": "execute_result",
          "data": {
            "text/plain": [
              "<Figure size 1600x350 with 1 Axes>"
            ],
            "image/png": "[encoded data removed]"
          },
          "metadata": {},
          "execution_count": 309
        }
      ]
    },
    {
      "cell_type": "markdown",
      "source": [
        "## Evaluation Metrics:"
      ],
      "metadata": {
        "id": "rCRObM-TlKXs"
      }
    },
    {
      "cell_type": "code",
      "source": [
        "# Evaluation Metrics\n",
        "def evaluate_model(model_fit, y_true):\n",
        "    y_pred = model_fit.fittedvalues\n",
        "    mae = mean_absolute_error(y_true, y_pred)\n",
        "    rmse = np.sqrt(mean_squared_error(y_true, y_pred))\n",
        "    aic = model_fit.aic\n",
        "    bic = model_fit.bic\n",
        "    return mae, rmse, aic, bic\n",
        "\n",
        "# Evaluation Metrics for GPT\n",
        "def evaluate_gpt(y_true, y_pred):\n",
        "    \"\"\"\n",
        "    Evaluates the model using common metrics like MAE and RMSE.\n",
        "    \"\"\"\n",
        "    mae = mean_absolute_error(y_true, y_pred)\n",
        "    rmse = np.sqrt(mean_squared_error(y_true, y_pred))\n",
        "    return mae, rmse\n",
        "\n",
        "mae_arima, rmse_arima, aic_arima, bic_arima = evaluate_model(model_arima_fit, NaturalGas['Prices'])\n",
        "mae_sarima, rmse_sarima, aic_sarima, bic_sarima = evaluate_model(model_sarima_fit, NaturalGas['Prices'])\n",
        "mae_ets, rmse_ets, aic_ets, bic_ets = evaluate_model(model_ets_fit, NaturalGas['Prices'])\n",
        "mae_tgpt, rmse_tgpt = evaluate_gpt(merged_df['Prices'], merged_df['TimeGPT'])\n",
        "\n",
        "print(f\"ARIMA - MAE: {mae_arima}, RMSE: {rmse_arima}, AIC: {aic_arima}, BIC: {bic_arima}\")\n",
        "print(f\"SARIMA - MAE: {mae_sarima}, RMSE: {rmse_sarima}, AIC: {aic_sarima}, BIC: {bic_sarima}\")\n",
        "print(f\"ETS - MAE: {mae_ets}, RMSE: {rmse_ets}, AIC: {aic_ets}, BIC: {bic_ets}\")\n",
        "print(f\"TimeGPT - MAE: {mae_tgpt}, RMSE: {rmse_tgpt}\")\n"
      ],
      "metadata": {
        "colab": {
          "base_uri": "https://localhost:8080/"
        },
        "id": "BIZZ7C7SUN7_",
        "outputId": "af767dd1-fbfe-42be-8bfa-25f24708d6b4"
      },
      "execution_count": 310,
      "outputs": [
        {
          "output_type": "stream",
          "name": "stdout",
          "text": [
            "ARIMA - MAE: 0.4601144450117369, RMSE: 1.4945361191754003, AIC: 42.15453179610496, BIC: 53.25541740636531\n",
            "SARIMA - MAE: 0.5111148975412954, RMSE: 1.6584873212096836, AIC: 11.29104086535445, BIC: 23.733825357269758\n",
            "ETS - MAE: 0.12121829063959222, RMSE: 0.1589264139803229, AIC: -144.57414294826884, BIC: -114.63492677374259\n",
            "TimeGPT - MAE: 0.2956764166666666, RMSE: 0.3533965984205988\n"
          ]
        }
      ]
    },
    {
      "cell_type": "markdown",
      "source": [
        "ETS has lowest MAE and RMSE, indicating the best performance among the four models.\n",
        "TimeGPT Second-best performance, with relatively low MAE and RMSE.\n",
        "This model is a strong contender, especially as it offers additional benefits like interpretability or ability to handle complex patterns and finetuning. Let us attempt to finetune TimeGPT and test performance"
      ],
      "metadata": {
        "id": "1wNRr9m7V77h"
      }
    },
    {
      "cell_type": "markdown",
      "source": [
        "##Fine-Tuning TimeGPT with Mean Absolute Error:"
      ],
      "metadata": {
        "id": "nveaBxCgV7Q8"
      }
    },
    {
      "cell_type": "code",
      "source": [
        "finetune_mae_df = nixtla_client.forecast(\n",
        "    df=train_df,\n",
        "    model=\"timegpt-1\",\n",
        "    h=12,\n",
        "    finetune_steps=120,  # Specify the number of steps for fine-tuning\n",
        "    finetune_loss=\"mae\",  # Specify the loss function for fine-tuning\n",
        "    time_col=\"Dates\",\n",
        "    target_col=\"Prices\",\n",
        ")"
      ],
      "metadata": {
        "id": "wa10Fj9jRb7g"
      },
      "execution_count": 311,
      "outputs": []
    },
    {
      "cell_type": "code",
      "source": [
        "finetune_mae_df[\"Dates\"] = pd.to_datetime(finetune_mae_df[\"Dates\"])\n",
        "test_df[\"Dates\"] = pd.to_datetime(test_df[\"Dates\"])\n",
        "merged_df = pd.merge(test_df, finetune_mae_df, \"left\", [\"Dates\"])"
      ],
      "metadata": {
        "id": "BE-IwuZVRb2s"
      },
      "execution_count": 312,
      "outputs": []
    },
    {
      "cell_type": "code",
      "source": [
        "mae_tgpt, rmse_tgpt = evaluate_gpt(merged_df['Prices'], merged_df['TimeGPT'])"
      ],
      "metadata": {
        "id": "pW8M4x_ORbx5"
      },
      "execution_count": 313,
      "outputs": []
    },
    {
      "cell_type": "code",
      "source": [
        "print(f\"TimeGPT - MAE: {mae_tgpt}, RMSE: {rmse_tgpt}\")"
      ],
      "metadata": {
        "colab": {
          "base_uri": "https://localhost:8080/"
        },
        "id": "mn3pQv6ARbrY",
        "outputId": "ae0508f5-5256-4b57-e589-2b8a6827f2b5"
      },
      "execution_count": 314,
      "outputs": [
        {
          "output_type": "stream",
          "name": "stdout",
          "text": [
            "TimeGPT - MAE: 0.31455162499999983, RMSE: 0.4002490178903472\n"
          ]
        }
      ]
    },
    {
      "cell_type": "code",
      "source": [],
      "metadata": {
        "id": "xksVpROqRbmu"
      },
      "execution_count": 314,
      "outputs": []
    },
    {
      "cell_type": "markdown",
      "source": [
        "We observe finetuning did not improve the result. If we finetune TimeGPT with larger dataset it will give better result. However in the given situation ETS is the best performing model."
      ],
      "metadata": {
        "id": "45dOBWRQZM3_"
      }
    },
    {
      "cell_type": "markdown",
      "source": [
        "##Combining Forecasts and Plotting:"
      ],
      "metadata": {
        "id": "FnNqy-5TlYUh"
      }
    },
    {
      "cell_type": "code",
      "source": [
        "forecast_TimesGPT_df = nixtla_client.forecast(\n",
        "    df=NaturalGas,\n",
        "    model=\"timegpt-1\",\n",
        "    h=12,\n",
        "    finetune_steps=120,  # Specify the number of steps for fine-tuning\n",
        "    finetune_loss=\"mae\",  # Specify the loss function for fine-tuning\n",
        "    time_col=\"Dates\",\n",
        "    target_col=\"Prices\",\n",
        ")"
      ],
      "metadata": {
        "id": "ngU0TfynRbQR"
      },
      "execution_count": 315,
      "outputs": []
    },
    {
      "cell_type": "code",
      "source": [
        "# Combine with historical data\n",
        "forecast_TimesGPT_df = pd.concat([NaturalGas, forecast_TimesGPT_df], ignore_index=True)"
      ],
      "metadata": {
        "id": "_10Ye9qmRbL8"
      },
      "execution_count": 316,
      "outputs": []
    },
    {
      "cell_type": "code",
      "execution_count": 317,
      "metadata": {
        "colab": {
          "base_uri": "https://localhost:8080/",
          "height": 610
        },
        "id": "y4E7k433V4jt",
        "outputId": "cae0edf3-2bdc-44de-af4e-c051da13914f"
      },
      "outputs": [
        {
          "output_type": "display_data",
          "data": {
            "text/html": [
              "<html>\n",
              "<head><meta charset=\"utf-8\" /></head>\n",
              "<body>\n",
              "    <div>            <script src=\"https://cdnjs.cloudflare.com/ajax/libs/mathjax/2.7.5/MathJax.js?config=TeX-AMS-MML_SVG\"></script><script type=\"text/javascript\">if (window.MathJax && window.MathJax.Hub && window.MathJax.Hub.Config) {window.MathJax.Hub.Config({SVG: {font: \"STIX-Web\"}});}</script>                <script type=\"text/javascript\">window.PlotlyConfig = {MathJaxConfig: 'local'};</script>\n",
              "        <script charset=\"utf-8\" src=\"https://cdn.plot.ly/plotly-2.35.2.min.js\"></script>                <div id=\"98460b4c-03f2-4596-a414-cb077f1d636d\" class=\"plotly-graph-div\" style=\"height:525px; width:100%;\"></div>            <script type=\"text/javascript\">                                    window.PLOTLYENV=window.PLOTLYENV || {};                                    if (document.getElementById(\"98460b4c-03f2-4596-a414-cb077f1d636d\")) {                    Plotly.newPlot(                        \"98460b4c-03f2-4596-a414-cb077f1d636d\",                        [{\"hovertemplate\":\"Dates=%{x}\\u003cbr\\u003ePrices=%{y}\\u003cextra\\u003e\\u003c\\u002fextra\\u003e\",\"legendgroup\":\"\",\"line\":{\"color\":\"#636efa\",\"dash\":\"solid\"},\"marker\":{\"symbol\":\"circle\"},\"mode\":\"lines\",\"name\":\"\",\"orientation\":\"v\",\"showlegend\":false,\"x\":[\"2020-10-31T00:00:00\",\"2020-11-30T00:00:00\",\"2020-12-31T00:00:00\",\"2021-01-31T00:00:00\",\"2021-02-28T00:00:00\",\"2021-03-31T00:00:00\",\"2021-04-30T00:00:00\",\"2021-05-31T00:00:00\",\"2021-06-30T00:00:00\",\"2021-07-31T00:00:00\",\"2021-08-31T00:00:00\",\"2021-09-30T00:00:00\",\"2021-10-31T00:00:00\",\"2021-11-30T00:00:00\",\"2021-12-31T00:00:00\",\"2022-01-31T00:00:00\",\"2022-02-28T00:00:00\",\"2022-03-31T00:00:00\",\"2022-04-30T00:00:00\",\"2022-05-31T00:00:00\",\"2022-06-30T00:00:00\",\"2022-07-31T00:00:00\",\"2022-08-31T00:00:00\",\"2022-09-30T00:00:00\",\"2022-10-31T00:00:00\",\"2022-11-30T00:00:00\",\"2022-12-31T00:00:00\",\"2023-01-31T00:00:00\",\"2023-02-28T00:00:00\",\"2023-03-31T00:00:00\",\"2023-04-30T00:00:00\",\"2023-05-31T00:00:00\",\"2023-06-30T00:00:00\",\"2023-07-31T00:00:00\",\"2023-08-31T00:00:00\",\"2023-09-30T00:00:00\",\"2023-10-31T00:00:00\",\"2023-11-30T00:00:00\",\"2023-12-31T00:00:00\",\"2024-01-31T00:00:00\",\"2024-02-29T00:00:00\",\"2024-03-31T00:00:00\",\"2024-04-30T00:00:00\",\"2024-05-31T00:00:00\",\"2024-06-30T00:00:00\",\"2024-07-31T00:00:00\",\"2024-08-31T00:00:00\",\"2024-09-30T00:00:00\"],\"xaxis\":\"x\",\"y\":[10.1,10.3,11.0,10.9,10.9,10.9,10.4,9.84,10.0,10.1,10.3,10.2,10.1,11.2,11.4,11.5,11.8,11.5,10.7,10.7,10.4,10.5,10.4,10.8,11.0,11.6,11.6,12.1,11.7,12.0,11.5,11.2,10.9,11.4,11.1,11.5,11.8,12.2,12.8,12.6,12.4,12.7,12.1,11.4,11.5,11.6,11.5,11.8],\"yaxis\":\"y\",\"type\":\"scatter\"},{\"mode\":\"lines\",\"name\":\"ARIMA Forecast\",\"x\":[\"2020-10-31T00:00:00\",\"2020-11-30T00:00:00\",\"2020-12-31T00:00:00\",\"2021-01-31T00:00:00\",\"2021-02-28T00:00:00\",\"2021-03-31T00:00:00\",\"2021-04-30T00:00:00\",\"2021-05-31T00:00:00\",\"2021-06-30T00:00:00\",\"2021-07-31T00:00:00\",\"2021-08-31T00:00:00\",\"2021-09-30T00:00:00\",\"2021-10-31T00:00:00\",\"2021-11-30T00:00:00\",\"2021-12-31T00:00:00\",\"2022-01-31T00:00:00\",\"2022-02-28T00:00:00\",\"2022-03-31T00:00:00\",\"2022-04-30T00:00:00\",\"2022-05-31T00:00:00\",\"2022-06-30T00:00:00\",\"2022-07-31T00:00:00\",\"2022-08-31T00:00:00\",\"2022-09-30T00:00:00\",\"2022-10-31T00:00:00\",\"2022-11-30T00:00:00\",\"2022-12-31T00:00:00\",\"2023-01-31T00:00:00\",\"2023-02-28T00:00:00\",\"2023-03-31T00:00:00\",\"2023-04-30T00:00:00\",\"2023-05-31T00:00:00\",\"2023-06-30T00:00:00\",\"2023-07-31T00:00:00\",\"2023-08-31T00:00:00\",\"2023-09-30T00:00:00\",\"2023-10-31T00:00:00\",\"2023-11-30T00:00:00\",\"2023-12-31T00:00:00\",\"2024-01-31T00:00:00\",\"2024-02-29T00:00:00\",\"2024-03-31T00:00:00\",\"2024-04-30T00:00:00\",\"2024-05-31T00:00:00\",\"2024-06-30T00:00:00\",\"2024-07-31T00:00:00\",\"2024-08-31T00:00:00\",\"2024-09-30T00:00:00\",\"2024-10-31T00:00:00\",\"2024-11-30T00:00:00\",\"2024-12-31T00:00:00\",\"2025-01-31T00:00:00\",\"2025-02-28T00:00:00\",\"2025-03-31T00:00:00\",\"2025-04-30T00:00:00\",\"2025-05-31T00:00:00\",\"2025-06-30T00:00:00\",\"2025-07-31T00:00:00\",\"2025-08-31T00:00:00\",\"2025-09-30T00:00:00\"],\"y\":[10.1,10.3,11.0,10.9,10.9,10.9,10.4,9.84,10.0,10.1,10.3,10.2,10.1,11.2,11.4,11.5,11.8,11.5,10.7,10.7,10.4,10.5,10.4,10.8,11.0,11.6,11.6,12.1,11.7,12.0,11.5,11.2,10.9,11.4,11.1,11.5,11.8,12.2,12.8,12.6,12.4,12.7,12.1,11.4,11.5,11.6,11.5,11.8,12.144236675468612,12.119121038466949,12.141068677052854,12.18997520992569,12.011571119621932,11.845216640874716,11.835816062515253,11.786895534836889,11.76259947227726,11.859383040954372,11.938725669591284,11.958521971764403],\"type\":\"scatter\"},{\"mode\":\"lines\",\"name\":\"SARIMA Forecast\",\"x\":[\"2020-10-31T00:00:00\",\"2020-11-30T00:00:00\",\"2020-12-31T00:00:00\",\"2021-01-31T00:00:00\",\"2021-02-28T00:00:00\",\"2021-03-31T00:00:00\",\"2021-04-30T00:00:00\",\"2021-05-31T00:00:00\",\"2021-06-30T00:00:00\",\"2021-07-31T00:00:00\",\"2021-08-31T00:00:00\",\"2021-09-30T00:00:00\",\"2021-10-31T00:00:00\",\"2021-11-30T00:00:00\",\"2021-12-31T00:00:00\",\"2022-01-31T00:00:00\",\"2022-02-28T00:00:00\",\"2022-03-31T00:00:00\",\"2022-04-30T00:00:00\",\"2022-05-31T00:00:00\",\"2022-06-30T00:00:00\",\"2022-07-31T00:00:00\",\"2022-08-31T00:00:00\",\"2022-09-30T00:00:00\",\"2022-10-31T00:00:00\",\"2022-11-30T00:00:00\",\"2022-12-31T00:00:00\",\"2023-01-31T00:00:00\",\"2023-02-28T00:00:00\",\"2023-03-31T00:00:00\",\"2023-04-30T00:00:00\",\"2023-05-31T00:00:00\",\"2023-06-30T00:00:00\",\"2023-07-31T00:00:00\",\"2023-08-31T00:00:00\",\"2023-09-30T00:00:00\",\"2023-10-31T00:00:00\",\"2023-11-30T00:00:00\",\"2023-12-31T00:00:00\",\"2024-01-31T00:00:00\",\"2024-02-29T00:00:00\",\"2024-03-31T00:00:00\",\"2024-04-30T00:00:00\",\"2024-05-31T00:00:00\",\"2024-06-30T00:00:00\",\"2024-07-31T00:00:00\",\"2024-08-31T00:00:00\",\"2024-09-30T00:00:00\",\"2024-10-31T00:00:00\",\"2024-11-30T00:00:00\",\"2024-12-31T00:00:00\",\"2025-01-31T00:00:00\",\"2025-02-28T00:00:00\",\"2025-03-31T00:00:00\",\"2025-04-30T00:00:00\",\"2025-05-31T00:00:00\",\"2025-06-30T00:00:00\",\"2025-07-31T00:00:00\",\"2025-08-31T00:00:00\",\"2025-09-30T00:00:00\"],\"y\":[10.1,10.3,11.0,10.9,10.9,10.9,10.4,9.84,10.0,10.1,10.3,10.2,10.1,11.2,11.4,11.5,11.8,11.5,10.7,10.7,10.4,10.5,10.4,10.8,11.0,11.6,11.6,12.1,11.7,12.0,11.5,11.2,10.9,11.4,11.1,11.5,11.8,12.2,12.8,12.6,12.4,12.7,12.1,11.4,11.5,11.6,11.5,11.8,12.02760293546029,12.498872875921355,12.87659401043767,13.073178247855623,12.969971291793193,13.017077314556113,12.466711215642718,12.079188326819567,12.01790436567058,12.225990236276797,12.11655190134469,12.393138601189682],\"type\":\"scatter\"},{\"mode\":\"lines\",\"name\":\"ETS Forecast\",\"x\":[\"2020-10-31T00:00:00\",\"2020-11-30T00:00:00\",\"2020-12-31T00:00:00\",\"2021-01-31T00:00:00\",\"2021-02-28T00:00:00\",\"2021-03-31T00:00:00\",\"2021-04-30T00:00:00\",\"2021-05-31T00:00:00\",\"2021-06-30T00:00:00\",\"2021-07-31T00:00:00\",\"2021-08-31T00:00:00\",\"2021-09-30T00:00:00\",\"2021-10-31T00:00:00\",\"2021-11-30T00:00:00\",\"2021-12-31T00:00:00\",\"2022-01-31T00:00:00\",\"2022-02-28T00:00:00\",\"2022-03-31T00:00:00\",\"2022-04-30T00:00:00\",\"2022-05-31T00:00:00\",\"2022-06-30T00:00:00\",\"2022-07-31T00:00:00\",\"2022-08-31T00:00:00\",\"2022-09-30T00:00:00\",\"2022-10-31T00:00:00\",\"2022-11-30T00:00:00\",\"2022-12-31T00:00:00\",\"2023-01-31T00:00:00\",\"2023-02-28T00:00:00\",\"2023-03-31T00:00:00\",\"2023-04-30T00:00:00\",\"2023-05-31T00:00:00\",\"2023-06-30T00:00:00\",\"2023-07-31T00:00:00\",\"2023-08-31T00:00:00\",\"2023-09-30T00:00:00\",\"2023-10-31T00:00:00\",\"2023-11-30T00:00:00\",\"2023-12-31T00:00:00\",\"2024-01-31T00:00:00\",\"2024-02-29T00:00:00\",\"2024-03-31T00:00:00\",\"2024-04-30T00:00:00\",\"2024-05-31T00:00:00\",\"2024-06-30T00:00:00\",\"2024-07-31T00:00:00\",\"2024-08-31T00:00:00\",\"2024-09-30T00:00:00\",\"2024-10-31T00:00:00\",\"2024-11-30T00:00:00\",\"2024-12-31T00:00:00\",\"2025-01-31T00:00:00\",\"2025-02-28T00:00:00\",\"2025-03-31T00:00:00\",\"2025-04-30T00:00:00\",\"2025-05-31T00:00:00\",\"2025-06-30T00:00:00\",\"2025-07-31T00:00:00\",\"2025-08-31T00:00:00\",\"2025-09-30T00:00:00\"],\"y\":[10.1,10.3,11.0,10.9,10.9,10.9,10.4,9.84,10.0,10.1,10.3,10.2,10.1,11.2,11.4,11.5,11.8,11.5,10.7,10.7,10.4,10.5,10.4,10.8,11.0,11.6,11.6,12.1,11.7,12.0,11.5,11.2,10.9,11.4,11.1,11.5,11.8,12.2,12.8,12.6,12.4,12.7,12.1,11.4,11.5,11.6,11.5,11.8,12.103781768297242,12.678809952615552,13.053790579783286,13.128798950955119,13.053791626512497,13.128792922155402,12.528778124027044,12.138793303154486,12.05378044564145,12.25378872989089,12.17879789099233,12.428808402002158],\"type\":\"scatter\"},{\"mode\":\"lines\",\"name\":\"TimeGPT Forecast\",\"x\":[\"2020-10-31T00:00:00\",\"2020-11-30T00:00:00\",\"2020-12-31T00:00:00\",\"2021-01-31T00:00:00\",\"2021-02-28T00:00:00\",\"2021-03-31T00:00:00\",\"2021-04-30T00:00:00\",\"2021-05-31T00:00:00\",\"2021-06-30T00:00:00\",\"2021-07-31T00:00:00\",\"2021-08-31T00:00:00\",\"2021-09-30T00:00:00\",\"2021-10-31T00:00:00\",\"2021-11-30T00:00:00\",\"2021-12-31T00:00:00\",\"2022-01-31T00:00:00\",\"2022-02-28T00:00:00\",\"2022-03-31T00:00:00\",\"2022-04-30T00:00:00\",\"2022-05-31T00:00:00\",\"2022-06-30T00:00:00\",\"2022-07-31T00:00:00\",\"2022-08-31T00:00:00\",\"2022-09-30T00:00:00\",\"2022-10-31T00:00:00\",\"2022-11-30T00:00:00\",\"2022-12-31T00:00:00\",\"2023-01-31T00:00:00\",\"2023-02-28T00:00:00\",\"2023-03-31T00:00:00\",\"2023-04-30T00:00:00\",\"2023-05-31T00:00:00\",\"2023-06-30T00:00:00\",\"2023-07-31T00:00:00\",\"2023-08-31T00:00:00\",\"2023-09-30T00:00:00\",\"2023-10-31T00:00:00\",\"2023-11-30T00:00:00\",\"2023-12-31T00:00:00\",\"2024-01-31T00:00:00\",\"2024-02-29T00:00:00\",\"2024-03-31T00:00:00\",\"2024-04-30T00:00:00\",\"2024-05-31T00:00:00\",\"2024-06-30T00:00:00\",\"2024-07-31T00:00:00\",\"2024-08-31T00:00:00\",\"2024-09-30T00:00:00\",\"2024-10-31T00:00:00\",\"2024-11-30T00:00:00\",\"2024-12-31T00:00:00\",\"2025-01-31T00:00:00\",\"2025-02-28T00:00:00\",\"2025-03-31T00:00:00\",\"2025-04-30T00:00:00\",\"2025-05-31T00:00:00\",\"2025-06-30T00:00:00\",\"2025-07-31T00:00:00\",\"2025-08-31T00:00:00\",\"2025-09-30T00:00:00\"],\"y\":[null,null,null,null,null,null,null,null,null,null,null,null,null,null,null,null,null,null,null,null,null,null,null,null,null,null,null,null,null,null,null,null,null,null,null,null,null,null,null,null,null,null,null,null,null,null,null,null,12.1426735,12.644028,12.874046,13.030836,12.797934,13.22912,12.727709,11.977257,11.906795,12.309166,12.07574,12.419772],\"type\":\"scatter\"}],                        {\"template\":{\"data\":{\"histogram2dcontour\":[{\"type\":\"histogram2dcontour\",\"colorbar\":{\"outlinewidth\":0,\"ticks\":\"\"},\"colorscale\":[[0.0,\"#0d0887\"],[0.1111111111111111,\"#46039f\"],[0.2222222222222222,\"#7201a8\"],[0.3333333333333333,\"#9c179e\"],[0.4444444444444444,\"#bd3786\"],[0.5555555555555556,\"#d8576b\"],[0.6666666666666666,\"#ed7953\"],[0.7777777777777778,\"#fb9f3a\"],[0.8888888888888888,\"#fdca26\"],[1.0,\"#f0f921\"]]}],\"choropleth\":[{\"type\":\"choropleth\",\"colorbar\":{\"outlinewidth\":0,\"ticks\":\"\"}}],\"histogram2d\":[{\"type\":\"histogram2d\",\"colorbar\":{\"outlinewidth\":0,\"ticks\":\"\"},\"colorscale\":[[0.0,\"#0d0887\"],[0.1111111111111111,\"#46039f\"],[0.2222222222222222,\"#7201a8\"],[0.3333333333333333,\"#9c179e\"],[0.4444444444444444,\"#bd3786\"],[0.5555555555555556,\"#d8576b\"],[0.6666666666666666,\"#ed7953\"],[0.7777777777777778,\"#fb9f3a\"],[0.8888888888888888,\"#fdca26\"],[1.0,\"#f0f921\"]]}],\"heatmap\":[{\"type\":\"heatmap\",\"colorbar\":{\"outlinewidth\":0,\"ticks\":\"\"},\"colorscale\":[[0.0,\"#0d0887\"],[0.1111111111111111,\"#46039f\"],[0.2222222222222222,\"#7201a8\"],[0.3333333333333333,\"#9c179e\"],[0.4444444444444444,\"#bd3786\"],[0.5555555555555556,\"#d8576b\"],[0.6666666666666666,\"#ed7953\"],[0.7777777777777778,\"#fb9f3a\"],[0.8888888888888888,\"#fdca26\"],[1.0,\"#f0f921\"]]}],\"heatmapgl\":[{\"type\":\"heatmapgl\",\"colorbar\":{\"outlinewidth\":0,\"ticks\":\"\"},\"colorscale\":[[0.0,\"#0d0887\"],[0.1111111111111111,\"#46039f\"],[0.2222222222222222,\"#7201a8\"],[0.3333333333333333,\"#9c179e\"],[0.4444444444444444,\"#bd3786\"],[0.5555555555555556,\"#d8576b\"],[0.6666666666666666,\"#ed7953\"],[0.7777777777777778,\"#fb9f3a\"],[0.8888888888888888,\"#fdca26\"],[1.0,\"#f0f921\"]]}],\"contourcarpet\":[{\"type\":\"contourcarpet\",\"colorbar\":{\"outlinewidth\":0,\"ticks\":\"\"}}],\"contour\":[{\"type\":\"contour\",\"colorbar\":{\"outlinewidth\":0,\"ticks\":\"\"},\"colorscale\":[[0.0,\"#0d0887\"],[0.1111111111111111,\"#46039f\"],[0.2222222222222222,\"#7201a8\"],[0.3333333333333333,\"#9c179e\"],[0.4444444444444444,\"#bd3786\"],[0.5555555555555556,\"#d8576b\"],[0.6666666666666666,\"#ed7953\"],[0.7777777777777778,\"#fb9f3a\"],[0.8888888888888888,\"#fdca26\"],[1.0,\"#f0f921\"]]}],\"surface\":[{\"type\":\"surface\",\"colorbar\":{\"outlinewidth\":0,\"ticks\":\"\"},\"colorscale\":[[0.0,\"#0d0887\"],[0.1111111111111111,\"#46039f\"],[0.2222222222222222,\"#7201a8\"],[0.3333333333333333,\"#9c179e\"],[0.4444444444444444,\"#bd3786\"],[0.5555555555555556,\"#d8576b\"],[0.6666666666666666,\"#ed7953\"],[0.7777777777777778,\"#fb9f3a\"],[0.8888888888888888,\"#fdca26\"],[1.0,\"#f0f921\"]]}],\"mesh3d\":[{\"type\":\"mesh3d\",\"colorbar\":{\"outlinewidth\":0,\"ticks\":\"\"}}],\"scatter\":[{\"fillpattern\":{\"fillmode\":\"overlay\",\"size\":10,\"solidity\":0.2},\"type\":\"scatter\"}],\"parcoords\":[{\"type\":\"parcoords\",\"line\":{\"colorbar\":{\"outlinewidth\":0,\"ticks\":\"\"}}}],\"scatterpolargl\":[{\"type\":\"scatterpolargl\",\"marker\":{\"colorbar\":{\"outlinewidth\":0,\"ticks\":\"\"}}}],\"bar\":[{\"error_x\":{\"color\":\"#2a3f5f\"},\"error_y\":{\"color\":\"#2a3f5f\"},\"marker\":{\"line\":{\"color\":\"#E5ECF6\",\"width\":0.5},\"pattern\":{\"fillmode\":\"overlay\",\"size\":10,\"solidity\":0.2}},\"type\":\"bar\"}],\"scattergeo\":[{\"type\":\"scattergeo\",\"marker\":{\"colorbar\":{\"outlinewidth\":0,\"ticks\":\"\"}}}],\"scatterpolar\":[{\"type\":\"scatterpolar\",\"marker\":{\"colorbar\":{\"outlinewidth\":0,\"ticks\":\"\"}}}],\"histogram\":[{\"marker\":{\"pattern\":{\"fillmode\":\"overlay\",\"size\":10,\"solidity\":0.2}},\"type\":\"histogram\"}],\"scattergl\":[{\"type\":\"scattergl\",\"marker\":{\"colorbar\":{\"outlinewidth\":0,\"ticks\":\"\"}}}],\"scatter3d\":[{\"type\":\"scatter3d\",\"line\":{\"colorbar\":{\"outlinewidth\":0,\"ticks\":\"\"}},\"marker\":{\"colorbar\":{\"outlinewidth\":0,\"ticks\":\"\"}}}],\"scattermapbox\":[{\"type\":\"scattermapbox\",\"marker\":{\"colorbar\":{\"outlinewidth\":0,\"ticks\":\"\"}}}],\"scatterternary\":[{\"type\":\"scatterternary\",\"marker\":{\"colorbar\":{\"outlinewidth\":0,\"ticks\":\"\"}}}],\"scattercarpet\":[{\"type\":\"scattercarpet\",\"marker\":{\"colorbar\":{\"outlinewidth\":0,\"ticks\":\"\"}}}],\"carpet\":[{\"aaxis\":{\"endlinecolor\":\"#2a3f5f\",\"gridcolor\":\"white\",\"linecolor\":\"white\",\"minorgridcolor\":\"white\",\"startlinecolor\":\"#2a3f5f\"},\"baxis\":{\"endlinecolor\":\"#2a3f5f\",\"gridcolor\":\"white\",\"linecolor\":\"white\",\"minorgridcolor\":\"white\",\"startlinecolor\":\"#2a3f5f\"},\"type\":\"carpet\"}],\"table\":[{\"cells\":{\"fill\":{\"color\":\"#EBF0F8\"},\"line\":{\"color\":\"white\"}},\"header\":{\"fill\":{\"color\":\"#C8D4E3\"},\"line\":{\"color\":\"white\"}},\"type\":\"table\"}],\"barpolar\":[{\"marker\":{\"line\":{\"color\":\"#E5ECF6\",\"width\":0.5},\"pattern\":{\"fillmode\":\"overlay\",\"size\":10,\"solidity\":0.2}},\"type\":\"barpolar\"}],\"pie\":[{\"automargin\":true,\"type\":\"pie\"}]},\"layout\":{\"autotypenumbers\":\"strict\",\"colorway\":[\"#636efa\",\"#EF553B\",\"#00cc96\",\"#ab63fa\",\"#FFA15A\",\"#19d3f3\",\"#FF6692\",\"#B6E880\",\"#FF97FF\",\"#FECB52\"],\"font\":{\"color\":\"#2a3f5f\"},\"hovermode\":\"closest\",\"hoverlabel\":{\"align\":\"left\"},\"paper_bgcolor\":\"white\",\"plot_bgcolor\":\"#E5ECF6\",\"polar\":{\"bgcolor\":\"#E5ECF6\",\"angularaxis\":{\"gridcolor\":\"white\",\"linecolor\":\"white\",\"ticks\":\"\"},\"radialaxis\":{\"gridcolor\":\"white\",\"linecolor\":\"white\",\"ticks\":\"\"}},\"ternary\":{\"bgcolor\":\"#E5ECF6\",\"aaxis\":{\"gridcolor\":\"white\",\"linecolor\":\"white\",\"ticks\":\"\"},\"baxis\":{\"gridcolor\":\"white\",\"linecolor\":\"white\",\"ticks\":\"\"},\"caxis\":{\"gridcolor\":\"white\",\"linecolor\":\"white\",\"ticks\":\"\"}},\"coloraxis\":{\"colorbar\":{\"outlinewidth\":0,\"ticks\":\"\"}},\"colorscale\":{\"sequential\":[[0.0,\"#0d0887\"],[0.1111111111111111,\"#46039f\"],[0.2222222222222222,\"#7201a8\"],[0.3333333333333333,\"#9c179e\"],[0.4444444444444444,\"#bd3786\"],[0.5555555555555556,\"#d8576b\"],[0.6666666666666666,\"#ed7953\"],[0.7777777777777778,\"#fb9f3a\"],[0.8888888888888888,\"#fdca26\"],[1.0,\"#f0f921\"]],\"sequentialminus\":[[0.0,\"#0d0887\"],[0.1111111111111111,\"#46039f\"],[0.2222222222222222,\"#7201a8\"],[0.3333333333333333,\"#9c179e\"],[0.4444444444444444,\"#bd3786\"],[0.5555555555555556,\"#d8576b\"],[0.6666666666666666,\"#ed7953\"],[0.7777777777777778,\"#fb9f3a\"],[0.8888888888888888,\"#fdca26\"],[1.0,\"#f0f921\"]],\"diverging\":[[0,\"#8e0152\"],[0.1,\"#c51b7d\"],[0.2,\"#de77ae\"],[0.3,\"#f1b6da\"],[0.4,\"#fde0ef\"],[0.5,\"#f7f7f7\"],[0.6,\"#e6f5d0\"],[0.7,\"#b8e186\"],[0.8,\"#7fbc41\"],[0.9,\"#4d9221\"],[1,\"#276419\"]]},\"xaxis\":{\"gridcolor\":\"white\",\"linecolor\":\"white\",\"ticks\":\"\",\"title\":{\"standoff\":15},\"zerolinecolor\":\"white\",\"automargin\":true,\"zerolinewidth\":2},\"yaxis\":{\"gridcolor\":\"white\",\"linecolor\":\"white\",\"ticks\":\"\",\"title\":{\"standoff\":15},\"zerolinecolor\":\"white\",\"automargin\":true,\"zerolinewidth\":2},\"scene\":{\"xaxis\":{\"backgroundcolor\":\"#E5ECF6\",\"gridcolor\":\"white\",\"linecolor\":\"white\",\"showbackground\":true,\"ticks\":\"\",\"zerolinecolor\":\"white\",\"gridwidth\":2},\"yaxis\":{\"backgroundcolor\":\"#E5ECF6\",\"gridcolor\":\"white\",\"linecolor\":\"white\",\"showbackground\":true,\"ticks\":\"\",\"zerolinecolor\":\"white\",\"gridwidth\":2},\"zaxis\":{\"backgroundcolor\":\"#E5ECF6\",\"gridcolor\":\"white\",\"linecolor\":\"white\",\"showbackground\":true,\"ticks\":\"\",\"zerolinecolor\":\"white\",\"gridwidth\":2}},\"shapedefaults\":{\"line\":{\"color\":\"#2a3f5f\"}},\"annotationdefaults\":{\"arrowcolor\":\"#2a3f5f\",\"arrowhead\":0,\"arrowwidth\":1},\"geo\":{\"bgcolor\":\"white\",\"landcolor\":\"#E5ECF6\",\"subunitcolor\":\"white\",\"showland\":true,\"showlakes\":true,\"lakecolor\":\"white\"},\"title\":{\"x\":0.05},\"mapbox\":{\"style\":\"light\"}}},\"xaxis\":{\"anchor\":\"y\",\"domain\":[0.0,1.0],\"title\":{\"text\":\"Dates\"}},\"yaxis\":{\"anchor\":\"x\",\"domain\":[0.0,1.0],\"title\":{\"text\":\"Prices\"}},\"legend\":{\"tracegroupgap\":0},\"title\":{\"text\":\"Natural Gas Prices Over Time\"}},                        {\"responsive\": true}                    ).then(function(){\n",
              "                            \n",
              "var gd = document.getElementById('98460b4c-03f2-4596-a414-cb077f1d636d');\n",
              "var x = new MutationObserver(function (mutations, observer) {{\n",
              "        var display = window.getComputedStyle(gd).display;\n",
              "        if (!display || display === 'none') {{\n",
              "            console.log([gd, 'removed!']);\n",
              "            Plotly.purge(gd);\n",
              "            observer.disconnect();\n",
              "        }}\n",
              "}});\n",
              "\n",
              "// Listen for the removal of the full notebook cells\n",
              "var notebookContainer = gd.closest('#notebook-container');\n",
              "if (notebookContainer) {{\n",
              "    x.observe(notebookContainer, {childList: true});\n",
              "}}\n",
              "\n",
              "// Listen for the clearing of the current output cell\n",
              "var outputEl = gd.closest('.output');\n",
              "if (outputEl) {{\n",
              "    x.observe(outputEl, {childList: true});\n",
              "}}\n",
              "\n",
              "                        })                };                            </script>        </div>\n",
              "</body>\n",
              "</html>"
            ]
          },
          "metadata": {}
        },
        {
          "output_type": "stream",
          "name": "stdout",
          "text": [
            "ARIMA - MAE: 0.4601144450117369, RMSE: 1.4945361191754003, AIC: 42.15453179610496, BIC: 53.25541740636531\n",
            "SARIMA - MAE: 0.5111148975412954, RMSE: 1.6584873212096836, AIC: 11.29104086535445, BIC: 23.733825357269758\n",
            "ETS - MAE: 0.12121829063959222, RMSE: 0.1589264139803229, AIC: -144.57414294826884, BIC: -114.63492677374259\n",
            "TimeGPT - MAE: 0.31455162499999983, RMSE: 0.4002490178903472\n"
          ]
        }
      ],
      "source": [
        "from sklearn.metrics import mean_absolute_error, mean_squared_error\n",
        "\n",
        "# Plotting\n",
        "fig = px.line(NaturalGas, x='Dates', y='Prices', title='Natural Gas Prices Over Time')\n",
        "fig.add_scatter(x=forecast_arima_df['Dates'], y=forecast_arima_df['Prices'], mode='lines', name='ARIMA Forecast')\n",
        "fig.add_scatter(x=forecast_sarima_df['Dates'], y=forecast_sarima_df['Prices'], mode='lines', name='SARIMA Forecast')\n",
        "fig.add_scatter(x=forecast_ets_df['Dates'], y=forecast_ets_df['Prices'], mode='lines', name='ETS Forecast')\n",
        "fig.add_scatter(x=forecast_TimesGPT_df['Dates'], y=forecast_TimesGPT_df['TimeGPT'], mode='lines', name='TimeGPT Forecast')\n",
        "fig.show()\n",
        "\n",
        "mae_arima, rmse_arima, aic_arima, bic_arima = evaluate_model(model_arima_fit, NaturalGas['Prices'])\n",
        "mae_sarima, rmse_sarima, aic_sarima, bic_sarima = evaluate_model(model_sarima_fit, NaturalGas['Prices'])\n",
        "mae_ets, rmse_ets, aic_ets, bic_ets = evaluate_model(model_ets_fit, NaturalGas['Prices'])\n",
        "mae_tgpt, rmse_tgpt = evaluate_gpt(merged_df['Prices'], merged_df['TimeGPT'])\n",
        "\n",
        "print(f\"ARIMA - MAE: {mae_arima}, RMSE: {rmse_arima}, AIC: {aic_arima}, BIC: {bic_arima}\")\n",
        "print(f\"SARIMA - MAE: {mae_sarima}, RMSE: {rmse_sarima}, AIC: {aic_sarima}, BIC: {bic_sarima}\")\n",
        "print(f\"ETS - MAE: {mae_ets}, RMSE: {rmse_ets}, AIC: {aic_ets}, BIC: {bic_ets}\")\n",
        "print(f\"TimeGPT - MAE: {mae_tgpt}, RMSE: {rmse_tgpt}\")\n"
      ]
    },
    {
      "cell_type": "markdown",
      "source": [],
      "metadata": {
        "id": "8E6LvUvVV2Yz"
      }
    },
    {
      "cell_type": "markdown",
      "source": [
        "##Final Evaluation and Chat Function:"
      ],
      "metadata": {
        "id": "QqCTH1GJlko2"
      }
    },
    {
      "cell_type": "code",
      "execution_count": 318,
      "metadata": {
        "id": "2WX3oqdNaW-s"
      },
      "outputs": [],
      "source": [
        "def estimate_price(date_str, historical_data, forecast_data):\n",
        "    try:\n",
        "        date = pd.to_datetime(date_str, format='%Y-%m-%d')\n",
        "        if not pd.Timestamp(date).is_month_end:\n",
        "            # Get the first day of the current month\n",
        "            first_day_of_month = pd.Timestamp(date).replace(day=1)\n",
        "\n",
        "            # Subtract one month to get the last day of the previous month\n",
        "            date = first_day_of_month - pd.Timedelta(days=1)\n",
        "        # else:\n",
        "        #     return pd.Timestamp(date)\n",
        "    except ValueError:\n",
        "        return \"Invalid date format. Please use YYYY-MM-DD.\"\n",
        "\n",
        "    if date in historical_data['Dates'].values:\n",
        "        # If the date is within the historical data range\n",
        "        price = historical_data.loc[historical_data['Dates'] == date, 'Prices'].values[0]\n",
        "        return f\"The price on {date_str} was ${price:.2f}.\"\n",
        "\n",
        "    elif date in forecast_data['Dates'].values:\n",
        "        # If the date is within the forecast range\n",
        "        price = forecast_data.loc[forecast_data['Dates'] == date, 'Prices'].values[0]\n",
        "        return f\"The estimated price on {date_str} is ${price:.2f}.\"\n",
        "\n",
        "    elif date > historical_data['Dates'].max() and date <= forecast_data['Dates'].max():\n",
        "        # If the date is within the forecast period but not in forecast_data directly\n",
        "        return \"The date is within the forecast period but not explicitly forecasted. Please check later dates.\"\n",
        "\n",
        "    else:\n",
        "        return \"The date is outside the range of the available data.\"\n",
        "\n",
        "def chat_function():\n",
        "    print(\"Hello! I'm here to help with your natural gas price inquiries.\")\n",
        "    while True:\n",
        "        user_input = input(\"Please enter a date (YYYY-MM-DD) to get a price estimate, or type 'exit' to end the chat: \")\n",
        "        if user_input.lower() == 'exit':\n",
        "            print(\"Goodbye! Have a great day!\")\n",
        "            break\n",
        "        try:\n",
        "            result = estimate_price(user_input, NaturalGas, forecast_ets_df)\n",
        "            print(result)\n",
        "        except Exception as e:\n",
        "            print(f\"An error occurred: {e}. Please try again.\")\n",
        "            print(f\"Debugging Info - Forecast Dates: {forecast_ets_df['Dates'].min()} to {forecast_ets_df['Dates'].max()}\")\n",
        "            print(f\"Historical Dates: {NaturalGas['Dates'].min()} to {NaturalGas['Dates'].max()}\")"
      ]
    },
    {
      "cell_type": "code",
      "source": [
        "# Start the chat function\n",
        "chat_function()"
      ],
      "metadata": {
        "id": "frLhg54u90g9",
        "colab": {
          "base_uri": "https://localhost:8080/"
        },
        "outputId": "7a16fcde-47f7-4259-d291-ac95efd118a1"
      },
      "execution_count": 319,
      "outputs": [
        {
          "output_type": "stream",
          "name": "stdout",
          "text": [
            "Hello! I'm here to help with your natural gas price inquiries.\n",
            "Please enter a date (YYYY-MM-DD) to get a price estimate, or type 'exit' to end the chat: 2024-06-19\n",
            "The price on 2024-06-19 was $11.40.\n",
            "Please enter a date (YYYY-MM-DD) to get a price estimate, or type 'exit' to end the chat: exit\n",
            "Goodbye! Have a great day!\n"
          ]
        }
      ]
    },
    {
      "cell_type": "markdown",
      "source": [
        "##Prototype Model:"
      ],
      "metadata": {
        "id": "mbN2C6Phlq3f"
      }
    },
    {
      "cell_type": "markdown",
      "source": [
        "So, for example, if I can purchase a million MMBtu of natural gas in summer at 2/MMBtu, store this for four months, and ensure that I can sell the same quantity at $3/MMBtu without incurring any additional costs, the value of this contract would be (3-2) *1e6 = 1million. If there are costs involved, such as having to pay the storage facility owner a fixed fee of 100K a month, then the 'value' of the contract, from my perspective, would drop by the overall rental amount to 600K. Another cost could be the injection/withdrawal cost, like having to pay the storage facility owner 10K per 1 million MMBtu for injection/withdrawal, then the price will further go down by 10K to 590K. Additionally, if I am supposed to foot a bill of 50K each time for transporting the gas to and from the facility, the cost of this contract would fall by another 100K. Think of the valuation as a fair estimate at which both the trading desk and the client would be happy to enter into the contract."
      ],
      "metadata": {
        "id": "fL2-QREQaxj9"
      }
    },
    {
      "cell_type": "markdown",
      "source": [
        "Injection dates.\n",
        "Withdrawal dates.\n",
        "The prices at which the commodity can be purchased/sold on those dates.\n",
        "The rate at which the gas can be injected/withdrawn.\n",
        "The maximum volume that can be stored.\n",
        "Storage costs."
      ],
      "metadata": {
        "id": "dJyQKS7Sa4iz"
      }
    },
    {
      "cell_type": "code",
      "source": [
        "def prototype_model(estimate_price, injectdate_str, withdrawdate_str, forecast_ets_df, rateInorOut, transportcost):\n",
        "\n",
        "    inject_price_result = estimate_price(injectdate_str, NaturalGas,forecast_ets_df)\n",
        "\n",
        "    withdraw_price_result = estimate_price(withdrawdate_str, NaturalGas,forecast_ets_df)\n",
        "\n",
        "\n",
        "    if isinstance(inject_price_result, str):\n",
        "        return f\"Error in injection date: {inject_price_result}\"\n",
        "    if isinstance(withdraw_price_result, str):\n",
        "        return f\"Error in withdrawal date: {withdraw_price_result}\"\n",
        "\n",
        "\n",
        "    inject_price = float(inject_price_result.split('$')[1])\n",
        "    withdraw_price = float(withdraw_price_result.split('$')[1])\n",
        "\n",
        "\n",
        "    net_cost_or_gain = (withdraw_price - inject_price) * rateInorOut\n",
        "\n",
        "\n",
        "    total_cost = net_cost_or_gain - transportcost\n",
        "\n",
        "    return {\n",
        "        'Injection Date': injectdate_str,\n",
        "        'Injection Price': inject_price,\n",
        "        'Withdrawal Date': withdrawdate_str,\n",
        "        'Withdrawal Price': withdraw_price,\n",
        "        'Rate': rateInorOut,\n",
        "        'Transport Cost': transportcost,\n",
        "        'Net Cost or Gain': net_cost_or_gain,\n",
        "        'Total Profit/Loss': total_cost\n",
        "    }"
      ],
      "metadata": {
        "id": "Dkmflbkqa0Qg"
      },
      "execution_count": 320,
      "outputs": []
    },
    {
      "cell_type": "code",
      "source": [
        "result = prototype_model(estimate_price, '2022-01-01', '2022-12-01',forecast_ets_df, 1000, 500)\n",
        "print(result)"
      ],
      "metadata": {
        "colab": {
          "base_uri": "https://localhost:8080/"
        },
        "id": "O7mgo3uObCGR",
        "outputId": "905c83d7-97bd-4780-8593-778400a7c42c"
      },
      "execution_count": 321,
      "outputs": [
        {
          "output_type": "stream",
          "name": "stdout",
          "text": [
            "Error in injection date: The price on 2022-01-01 was $11.40.\n"
          ]
        }
      ]
    }
  ],
  "metadata": {
    "colab": {
      "provenance": []
    },
    "kernelspec": {
      "display_name": "Python 3",
      "name": "python3"
    },
    "language_info": {
      "name": "python"
    }
  },
  "nbformat": 4,
  "nbformat_minor": 0
}